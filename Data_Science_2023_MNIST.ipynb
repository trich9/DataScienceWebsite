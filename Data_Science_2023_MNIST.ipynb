{
  "cells": [
    {
      "cell_type": "markdown",
      "metadata": {
        "id": "view-in-github",
        "colab_type": "text"
      },
      "source": [
        "<a href=\"https://colab.research.google.com/github/trich9/DataScienceWebsite/blob/main/Data_Science_2023_MNIST.ipynb\" target=\"_parent\"><img src=\"https://colab.research.google.com/assets/colab-badge.svg\" alt=\"Open In Colab\"/></a>"
      ]
    },
    {
      "cell_type": "code",
      "source": [
        "%%capture\n",
        "import numpy as np\n",
        "import matplotlib.pyplot as plt\n",
        "import torch\n",
        "from torchvision import datasets\n",
        "from skimage.util import montage\n",
        "!pip install wandb\n",
        "import wandb as wb\n",
        "from skimage.io import imread"
      ],
      "metadata": {
        "id": "MyHiLSocpj2Y"
      },
      "execution_count": null,
      "outputs": []
    },
    {
      "cell_type": "code",
      "metadata": {
        "id": "tRpmxWj7pl2f"
      },
      "source": [
        "def GPU(data):\n",
        "    return torch.tensor(data, requires_grad=True, dtype=torch.float, device=torch.device('cuda'))\n",
        "\n",
        "def GPU_data(data):\n",
        "    return torch.tensor(data, requires_grad=False, dtype=torch.float, device=torch.device('cuda'))"
      ],
      "execution_count": null,
      "outputs": []
    },
    {
      "cell_type": "code",
      "metadata": {
        "id": "1Wb_wkDZpl2f"
      },
      "source": [
        "def plot(x):\n",
        "    if type(x) == torch.Tensor :\n",
        "        x = x.cpu().detach().numpy()\n",
        "\n",
        "    fig, ax = plt.subplots()\n",
        "    im = ax.imshow(x, cmap = 'gray')\n",
        "    ax.axis('off')\n",
        "    fig.set_size_inches(7, 7)\n",
        "    plt.show()"
      ],
      "execution_count": null,
      "outputs": []
    },
    {
      "cell_type": "code",
      "metadata": {
        "id": "49-KePVupl2g"
      },
      "source": [
        "def montage_plot(x):\n",
        "    x = np.pad(x, pad_width=((0, 0), (1, 1), (1, 1)), mode='constant', constant_values=0)\n",
        "    plot(montage(x))"
      ],
      "execution_count": null,
      "outputs": []
    },
    {
      "cell_type": "code",
      "metadata": {
        "id": "frk1nplIpl2g",
        "colab": {
          "base_uri": "https://localhost:8080/"
        },
        "outputId": "5efb70dd-e121-469c-8fdf-6d1654c9de9f"
      },
      "source": [
        "# #MNIST\n",
        "train_set = datasets.MNIST('./data', train=True, download=True)\n",
        "test_set = datasets.MNIST('./data', train=False, download=True)\n",
        "\n",
        "#KMNIST\n",
        "#train_set = datasets.KMNIST('./data', train=True, download=True)\n",
        "#test_set = datasets.KMNIST('./data', train=False, download=True)\n",
        "\n",
        "#Fashion MNIST\n",
        "# train_set = datasets.FashionMNIST('./data', train=True, download=True)\n",
        "# test_set = datasets.FashionMNIST('./data', train=False, download=True)"
      ],
      "execution_count": null,
      "outputs": [
        {
          "output_type": "stream",
          "name": "stdout",
          "text": [
            "Downloading http://yann.lecun.com/exdb/mnist/train-images-idx3-ubyte.gz\n",
            "Downloading http://yann.lecun.com/exdb/mnist/train-images-idx3-ubyte.gz to ./data/MNIST/raw/train-images-idx3-ubyte.gz\n"
          ]
        },
        {
          "output_type": "stream",
          "name": "stderr",
          "text": [
            "100%|██████████| 9912422/9912422 [00:00<00:00, 66758263.34it/s]\n"
          ]
        },
        {
          "output_type": "stream",
          "name": "stdout",
          "text": [
            "Extracting ./data/MNIST/raw/train-images-idx3-ubyte.gz to ./data/MNIST/raw\n",
            "\n",
            "Downloading http://yann.lecun.com/exdb/mnist/train-labels-idx1-ubyte.gz\n",
            "Downloading http://yann.lecun.com/exdb/mnist/train-labels-idx1-ubyte.gz to ./data/MNIST/raw/train-labels-idx1-ubyte.gz\n"
          ]
        },
        {
          "output_type": "stream",
          "name": "stderr",
          "text": [
            "100%|██████████| 28881/28881 [00:00<00:00, 24541266.98it/s]\n"
          ]
        },
        {
          "output_type": "stream",
          "name": "stdout",
          "text": [
            "Extracting ./data/MNIST/raw/train-labels-idx1-ubyte.gz to ./data/MNIST/raw\n",
            "\n",
            "Downloading http://yann.lecun.com/exdb/mnist/t10k-images-idx3-ubyte.gz\n",
            "Downloading http://yann.lecun.com/exdb/mnist/t10k-images-idx3-ubyte.gz to ./data/MNIST/raw/t10k-images-idx3-ubyte.gz\n"
          ]
        },
        {
          "output_type": "stream",
          "name": "stderr",
          "text": [
            "100%|██████████| 1648877/1648877 [00:00<00:00, 24902299.06it/s]\n"
          ]
        },
        {
          "output_type": "stream",
          "name": "stdout",
          "text": [
            "Extracting ./data/MNIST/raw/t10k-images-idx3-ubyte.gz to ./data/MNIST/raw\n",
            "\n",
            "Downloading http://yann.lecun.com/exdb/mnist/t10k-labels-idx1-ubyte.gz\n",
            "Downloading http://yann.lecun.com/exdb/mnist/t10k-labels-idx1-ubyte.gz to ./data/MNIST/raw/t10k-labels-idx1-ubyte.gz\n"
          ]
        },
        {
          "output_type": "stream",
          "name": "stderr",
          "text": [
            "100%|██████████| 4542/4542 [00:00<00:00, 4368385.41it/s]\n"
          ]
        },
        {
          "output_type": "stream",
          "name": "stdout",
          "text": [
            "Extracting ./data/MNIST/raw/t10k-labels-idx1-ubyte.gz to ./data/MNIST/raw\n",
            "\n"
          ]
        }
      ]
    },
    {
      "cell_type": "code",
      "metadata": {
        "id": "gg-B6om4pl2g"
      },
      "source": [
        "X = train_set.data.numpy()\n",
        "X_test = test_set.data.numpy()\n",
        "Y = train_set.targets.numpy()\n",
        "Y_test = test_set.targets.numpy()\n",
        "\n",
        "X = X[:,None,:,:]/255\n",
        "X_test = X_test[:,None,:,:]/255"
      ],
      "execution_count": null,
      "outputs": []
    },
    {
      "cell_type": "code",
      "metadata": {
        "colab": {
          "base_uri": "https://localhost:8080/"
        },
        "outputId": "5748831a-b2f0-426b-e3c0-ffdc2f2d9480",
        "id": "1vBIL7dhpl2h"
      },
      "source": [
        "X.shape"
      ],
      "execution_count": null,
      "outputs": [
        {
          "output_type": "execute_result",
          "data": {
            "text/plain": [
              "(60000, 1, 28, 28)"
            ]
          },
          "metadata": {},
          "execution_count": 11
        }
      ]
    },
    {
      "cell_type": "code",
      "source": [
        "x = X[3,0,:,:]"
      ],
      "metadata": {
        "id": "hkS1MDAICmed"
      },
      "execution_count": null,
      "outputs": []
    },
    {
      "cell_type": "code",
      "source": [
        "plt.imshow(x)"
      ],
      "metadata": {
        "colab": {
          "base_uri": "https://localhost:8080/",
          "height": 448
        },
        "id": "Ey0eWrWQC1xM",
        "outputId": "284800fb-cb70-4778-cf7a-a0bde33b4929"
      },
      "execution_count": null,
      "outputs": [
        {
          "output_type": "execute_result",
          "data": {
            "text/plain": [
              "<matplotlib.image.AxesImage at 0x79996d2c4340>"
            ]
          },
          "metadata": {},
          "execution_count": 13
        },
        {
          "output_type": "display_data",
          "data": {
            "text/plain": [
              "<Figure size 640x480 with 1 Axes>"
            ],
            "image/png": "[encoded data removed]"
          },
          "metadata": {}
        }
      ]
    },
    {
      "cell_type": "code",
      "source": [
        "plot(x)"
      ],
      "metadata": {
        "colab": {
          "base_uri": "https://localhost:8080/",
          "height": 576
        },
        "id": "Sts6RnquDhk7",
        "outputId": "2aca2366-7087-42a5-b7ca-3274eecabe8c"
      },
      "execution_count": null,
      "outputs": [
        {
          "output_type": "display_data",
          "data": {
            "text/plain": [
              "<Figure size 700x700 with 1 Axes>"
            ],
            "image/png": "[encoded data removed]"
          },
          "metadata": {}
        }
      ]
    },
    {
      "cell_type": "code",
      "source": [
        "x.shape"
      ],
      "metadata": {
        "colab": {
          "base_uri": "https://localhost:8080/"
        },
        "id": "kUIWiq0LElLM",
        "outputId": "bb5cea8b-9d2a-4426-b416-935a21e583ac"
      },
      "execution_count": null,
      "outputs": [
        {
          "output_type": "execute_result",
          "data": {
            "text/plain": [
              "(28, 28)"
            ]
          },
          "metadata": {},
          "execution_count": 15
        }
      ]
    },
    {
      "cell_type": "code",
      "source": [
        "x.shape[0]"
      ],
      "metadata": {
        "colab": {
          "base_uri": "https://localhost:8080/"
        },
        "id": "AMNAyQkvEm2S",
        "outputId": "d5a4e6f0-bcbb-4240-c10e-53a997f65e89"
      },
      "execution_count": null,
      "outputs": [
        {
          "output_type": "execute_result",
          "data": {
            "text/plain": [
              "28"
            ]
          },
          "metadata": {},
          "execution_count": 16
        }
      ]
    },
    {
      "cell_type": "code",
      "source": [
        "x.shape[1]"
      ],
      "metadata": {
        "colab": {
          "base_uri": "https://localhost:8080/"
        },
        "id": "jy2J7xliEsFq",
        "outputId": "42a38289-28a2-4f2b-f105-9348fe6a56e2"
      },
      "execution_count": null,
      "outputs": [
        {
          "output_type": "execute_result",
          "data": {
            "text/plain": [
              "28"
            ]
          },
          "metadata": {},
          "execution_count": 17
        }
      ]
    },
    {
      "cell_type": "code",
      "source": [
        "x = x.reshape(x.shape[0]*x.shape[1],1)"
      ],
      "metadata": {
        "id": "MVzBMr3ODJbV"
      },
      "execution_count": null,
      "outputs": []
    },
    {
      "cell_type": "code",
      "source": [
        "x.shape"
      ],
      "metadata": {
        "colab": {
          "base_uri": "https://localhost:8080/"
        },
        "id": "jN4wHqbpDkox",
        "outputId": "56365037-6635-4608-e953-98095e377a68"
      },
      "execution_count": null,
      "outputs": [
        {
          "output_type": "execute_result",
          "data": {
            "text/plain": [
              "(784, 1)"
            ]
          },
          "metadata": {},
          "execution_count": 19
        }
      ]
    },
    {
      "cell_type": "code",
      "source": [
        "x = x.reshape(28,28)"
      ],
      "metadata": {
        "id": "yiRk_VSSD_vz"
      },
      "execution_count": null,
      "outputs": []
    },
    {
      "cell_type": "code",
      "source": [
        "plot(x)"
      ],
      "metadata": {
        "colab": {
          "base_uri": "https://localhost:8080/",
          "height": 576
        },
        "id": "1n3-IkGeEF6T",
        "outputId": "b0b0ffb6-afaf-4c97-f81d-029bb0fee1ee"
      },
      "execution_count": null,
      "outputs": [
        {
          "output_type": "display_data",
          "data": {
            "text/plain": [
              "<Figure size 700x700 with 1 Axes>"
            ],
            "image/png": "[encoded data removed]"
          },
          "metadata": {}
        }
      ]
    },
    {
      "cell_type": "code",
      "metadata": {
        "colab": {
          "base_uri": "https://localhost:8080/",
          "height": 576
        },
        "outputId": "16099f14-db85-4884-c528-126d1089ef74",
        "id": "_o384DZXpl2h"
      },
      "source": [
        "plot(X[100,0,:,:])"
      ],
      "execution_count": null,
      "outputs": [
        {
          "output_type": "display_data",
          "data": {
            "text/plain": [
              "<Figure size 700x700 with 1 Axes>"
            ],
            "image/png": "[encoded data removed]"
          },
          "metadata": {}
        }
      ]
    },
    {
      "cell_type": "code",
      "metadata": {
        "colab": {
          "base_uri": "https://localhost:8080/"
        },
        "outputId": "81fcf209-0a0b-4627-a738-5d97b9227493",
        "id": "3-RBJefNpl2h"
      },
      "source": [
        "Y[120]"
      ],
      "execution_count": null,
      "outputs": [
        {
          "output_type": "execute_result",
          "data": {
            "text/plain": [
              "2"
            ]
          },
          "metadata": {},
          "execution_count": 23
        }
      ]
    },
    {
      "cell_type": "code",
      "metadata": {
        "colab": {
          "base_uri": "https://localhost:8080/"
        },
        "outputId": "2d752941-7e03-4ac6-fd44-3e18739e474c",
        "id": "WLY5zYmkpl2i"
      },
      "source": [
        "X[0:25,0,:,:].shape"
      ],
      "execution_count": null,
      "outputs": [
        {
          "output_type": "execute_result",
          "data": {
            "text/plain": [
              "(25, 28, 28)"
            ]
          },
          "metadata": {},
          "execution_count": 24
        }
      ]
    },
    {
      "cell_type": "code",
      "metadata": {
        "colab": {
          "base_uri": "https://localhost:8080/",
          "height": 576
        },
        "outputId": "bc5f8878-ef4a-4cf8-e355-7a0a6aa163c6",
        "id": "o-E8Pm-_pl2i"
      },
      "source": [
        "montage_plot(X[125:150,0,:,:])"
      ],
      "execution_count": null,
      "outputs": [
        {
          "output_type": "display_data",
          "data": {
            "text/plain": [
              "<Figure size 700x700 with 1 Axes>"
            ],
            "image/png": "[encoded data removed]"
          },
          "metadata": {}
        }
      ]
    },
    {
      "cell_type": "code",
      "metadata": {
        "colab": {
          "base_uri": "https://localhost:8080/"
        },
        "outputId": "8d63749f-ffbf-45e0-93d8-caa7249c4ed8",
        "id": "wMDDxcCOpl2i"
      },
      "source": [
        "X.shape[1]"
      ],
      "execution_count": null,
      "outputs": [
        {
          "output_type": "execute_result",
          "data": {
            "text/plain": [
              "1"
            ]
          },
          "metadata": {},
          "execution_count": 26
        }
      ]
    },
    {
      "cell_type": "code",
      "metadata": {
        "colab": {
          "base_uri": "https://localhost:8080/"
        },
        "outputId": "616431bf-e0e8-44e2-f1fb-3039bd575f3e",
        "id": "CP91C9Elpl2i"
      },
      "source": [
        "X_test.shape"
      ],
      "execution_count": null,
      "outputs": [
        {
          "output_type": "execute_result",
          "data": {
            "text/plain": [
              "(10000, 1, 28, 28)"
            ]
          },
          "metadata": {},
          "execution_count": 27
        }
      ]
    },
    {
      "cell_type": "code",
      "metadata": {
        "colab": {
          "base_uri": "https://localhost:8080/"
        },
        "outputId": "14bccf30-409e-4577-9a40-a8698e15830e",
        "id": "BlH93YkNpl2j"
      },
      "source": [
        "X.shape[0]"
      ],
      "execution_count": null,
      "outputs": [
        {
          "output_type": "execute_result",
          "data": {
            "text/plain": [
              "60000"
            ]
          },
          "metadata": {},
          "execution_count": 28
        }
      ]
    },
    {
      "cell_type": "code",
      "metadata": {
        "colab": {
          "base_uri": "https://localhost:8080/"
        },
        "outputId": "f05b8a48-f2e6-4b98-b773-e97c42a176cf",
        "id": "FTLOOvdipl2j"
      },
      "source": [
        "X_test.shape[0]"
      ],
      "execution_count": null,
      "outputs": [
        {
          "output_type": "execute_result",
          "data": {
            "text/plain": [
              "10000"
            ]
          },
          "metadata": {},
          "execution_count": 29
        }
      ]
    },
    {
      "cell_type": "code",
      "metadata": {
        "id": "CJRGYxtBpl2j"
      },
      "source": [
        "X = X.reshape(X.shape[0],784)\n",
        "X_test = X_test.reshape(X_test.shape[0],784)"
      ],
      "execution_count": null,
      "outputs": []
    },
    {
      "cell_type": "code",
      "metadata": {
        "colab": {
          "base_uri": "https://localhost:8080/"
        },
        "outputId": "93161ddc-6e23-4c08-c001-41d6384ee683",
        "id": "LWUPirgjpl2j"
      },
      "source": [
        "X.shape,X_test.shape"
      ],
      "execution_count": null,
      "outputs": [
        {
          "output_type": "execute_result",
          "data": {
            "text/plain": [
              "((60000, 784), (10000, 784))"
            ]
          },
          "metadata": {},
          "execution_count": 31
        }
      ]
    },
    {
      "cell_type": "code",
      "metadata": {
        "colab": {
          "base_uri": "https://localhost:8080/",
          "height": 448
        },
        "outputId": "c9aa901f-f353-4077-fc9f-f2a05aa19cbb",
        "id": "gNUXtEdrpl2k"
      },
      "source": [
        "plt.plot(X[100],'.')"
      ],
      "execution_count": null,
      "outputs": [
        {
          "output_type": "execute_result",
          "data": {
            "text/plain": [
              "[<matplotlib.lines.Line2D at 0x79996d0b5e40>]"
            ]
          },
          "metadata": {},
          "execution_count": 32
        },
        {
          "output_type": "display_data",
          "data": {
            "text/plain": [
              "<Figure size 640x480 with 1 Axes>"
            ],
            "image/png": "[encoded data removed]"
          },
          "metadata": {}
        }
      ]
    },
    {
      "cell_type": "code",
      "metadata": {
        "id": "dv0M1DuOpl2k"
      },
      "source": [
        "X = GPU_data(X)\n",
        "Y = GPU_data(Y)\n",
        "X_test = GPU_data(X_test)\n",
        "Y_test = GPU_data(Y_test)"
      ],
      "execution_count": null,
      "outputs": []
    },
    {
      "cell_type": "code",
      "metadata": {
        "id": "2LDQPWgtpl2k"
      },
      "source": [
        "###################################################"
      ],
      "execution_count": null,
      "outputs": []
    },
    {
      "cell_type": "code",
      "source": [
        "X.shape"
      ],
      "metadata": {
        "id": "afqyUTTQzqP1",
        "colab": {
          "base_uri": "https://localhost:8080/"
        },
        "outputId": "1020ab13-93eb-4d98-a618-afd28b9cc398"
      },
      "execution_count": null,
      "outputs": [
        {
          "output_type": "execute_result",
          "data": {
            "text/plain": [
              "torch.Size([60000, 784])"
            ]
          },
          "metadata": {},
          "execution_count": 35
        }
      ]
    },
    {
      "cell_type": "code",
      "source": [
        "X = X.T"
      ],
      "metadata": {
        "id": "SD3LnOUGG15-"
      },
      "execution_count": null,
      "outputs": []
    },
    {
      "cell_type": "code",
      "source": [
        "X.shape"
      ],
      "metadata": {
        "colab": {
          "base_uri": "https://localhost:8080/"
        },
        "id": "guRzWM8aG99u",
        "outputId": "4243bbcb-f15d-434e-a960-5ddc693da66b"
      },
      "execution_count": null,
      "outputs": [
        {
          "output_type": "execute_result",
          "data": {
            "text/plain": [
              "torch.Size([784, 60000])"
            ]
          },
          "metadata": {},
          "execution_count": 37
        }
      ]
    },
    {
      "cell_type": "code",
      "source": [
        "x = X[:,0:64]"
      ],
      "metadata": {
        "id": "QcW8gTw-HuwH"
      },
      "execution_count": null,
      "outputs": []
    },
    {
      "cell_type": "code",
      "source": [
        "Y[0:64]"
      ],
      "metadata": {
        "colab": {
          "base_uri": "https://localhost:8080/"
        },
        "id": "IkBALdPWHy-X",
        "outputId": "415687e0-6e5a-4280-83d6-04d7be724f4a"
      },
      "execution_count": null,
      "outputs": [
        {
          "output_type": "execute_result",
          "data": {
            "text/plain": [
              "tensor([5., 0., 4., 1., 9., 2., 1., 3., 1., 4., 3., 5., 3., 6., 1., 7., 2., 8.,\n",
              "        6., 9., 4., 0., 9., 1., 1., 2., 4., 3., 2., 7., 3., 8., 6., 9., 0., 5.,\n",
              "        6., 0., 7., 6., 1., 8., 7., 9., 3., 9., 8., 5., 9., 3., 3., 0., 7., 4.,\n",
              "        9., 8., 0., 9., 4., 1., 4., 4., 6., 0.], device='cuda:0')"
            ]
          },
          "metadata": {},
          "execution_count": 39
        }
      ]
    },
    {
      "cell_type": "code",
      "source": [
        "plot(x[:,62].reshape(28,28))"
      ],
      "metadata": {
        "colab": {
          "base_uri": "https://localhost:8080/",
          "height": 576
        },
        "id": "ptrJUbQzH0pG",
        "outputId": "9b2ab53d-783e-4790-e75e-3f798f8d2eff"
      },
      "execution_count": null,
      "outputs": [
        {
          "output_type": "display_data",
          "data": {
            "text/plain": [
              "<Figure size 700x700 with 1 Axes>"
            ],
            "image/png": "[encoded data removed]"
          },
          "metadata": {}
        }
      ]
    },
    {
      "cell_type": "code",
      "source": [
        "M = GPU(np.random.rand(10,784))"
      ],
      "metadata": {
        "id": "6Ke1AL2NG-d9"
      },
      "execution_count": null,
      "outputs": []
    },
    {
      "cell_type": "code",
      "source": [
        "M.shape,x.shape"
      ],
      "metadata": {
        "colab": {
          "base_uri": "https://localhost:8080/"
        },
        "id": "70OhyyP_HSWa",
        "outputId": "c3ebf986-472b-4e69-ef36-ec9716cfcb15"
      },
      "execution_count": null,
      "outputs": [
        {
          "output_type": "execute_result",
          "data": {
            "text/plain": [
              "(torch.Size([10, 784]), torch.Size([784, 64]))"
            ]
          },
          "metadata": {},
          "execution_count": 42
        }
      ]
    },
    {
      "cell_type": "code",
      "source": [
        "#M@x"
      ],
      "metadata": {
        "id": "6k_1FPE5HTaq"
      },
      "execution_count": null,
      "outputs": []
    },
    {
      "cell_type": "code",
      "source": [
        "y = M@x"
      ],
      "metadata": {
        "id": "fCCxl8kuI33s"
      },
      "execution_count": null,
      "outputs": []
    },
    {
      "cell_type": "code",
      "source": [
        "y.shape"
      ],
      "metadata": {
        "colab": {
          "base_uri": "https://localhost:8080/"
        },
        "id": "_gKWpMyAI-aN",
        "outputId": "8f6f4b08-0c57-4716-bfaa-1f85a9d6fd25"
      },
      "execution_count": null,
      "outputs": [
        {
          "output_type": "execute_result",
          "data": {
            "text/plain": [
              "torch.Size([10, 64])"
            ]
          },
          "metadata": {},
          "execution_count": 45
        }
      ]
    },
    {
      "cell_type": "code",
      "source": [
        "torch.max(y,0)"
      ],
      "metadata": {
        "colab": {
          "base_uri": "https://localhost:8080/"
        },
        "id": "dAn4IaAsKE69",
        "outputId": "5c28e8d1-b5a3-4779-b18b-088204c8cf99"
      },
      "execution_count": null,
      "outputs": [
        {
          "output_type": "execute_result",
          "data": {
            "text/plain": [
              "torch.return_types.max(\n",
              "values=tensor([56.9801, 65.2085, 40.8196, 36.1384, 48.6118, 60.8151, 37.2726, 75.4902,\n",
              "        23.6046, 45.9093, 59.2288, 29.5092, 76.0879, 58.5784, 25.0242, 50.7123,\n",
              "        51.0889, 56.3243, 29.1807, 36.0293, 71.5260, 74.7859, 34.0024, 35.4598,\n",
              "        44.0506, 87.2667, 30.1632, 95.2230, 87.7266, 34.2116, 52.8374, 68.5500,\n",
              "        37.5725, 43.9465, 75.6361, 33.2761, 66.0768, 76.9461, 45.9377, 58.9509,\n",
              "        29.2141, 59.8455, 28.2970, 36.5839, 39.9538, 50.5099, 49.6241, 46.3476,\n",
              "        37.6674, 68.8435, 39.3710, 96.1624, 62.1412, 34.1362, 50.6377, 67.4272,\n",
              "        86.6465, 42.0667, 73.9324, 36.7552, 63.8129, 37.9445, 63.8260, 97.8616],\n",
              "       device='cuda:0', grad_fn=<MaxBackward0>),\n",
              "indices=tensor([8, 9, 9, 9, 9, 6, 6, 9, 6, 4, 9, 9, 9, 7, 9, 4, 9, 9, 6, 4, 9, 9, 4, 9,\n",
              "        5, 9, 6, 1, 1, 0, 9, 9, 4, 4, 4, 6, 6, 1, 1, 4, 9, 9, 9, 9, 1, 9, 6, 7,\n",
              "        6, 1, 1, 9, 1, 0, 1, 4, 9, 4, 1, 9, 9, 7, 9, 9], device='cuda:0'))"
            ]
          },
          "metadata": {},
          "execution_count": 46
        }
      ]
    },
    {
      "cell_type": "code",
      "source": [
        "y = torch.argmax(y,0)"
      ],
      "metadata": {
        "id": "6BL4Z02EJCzc"
      },
      "execution_count": null,
      "outputs": []
    },
    {
      "cell_type": "code",
      "source": [
        "y"
      ],
      "metadata": {
        "colab": {
          "base_uri": "https://localhost:8080/"
        },
        "id": "KLbZQBv5JKn8",
        "outputId": "4d6cbf57-d205-4a5f-a4cd-196bcb006d8b"
      },
      "execution_count": null,
      "outputs": [
        {
          "output_type": "execute_result",
          "data": {
            "text/plain": [
              "tensor([8, 9, 9, 9, 9, 6, 6, 9, 6, 4, 9, 9, 9, 7, 9, 4, 9, 9, 6, 4, 9, 9, 4, 9,\n",
              "        5, 9, 6, 1, 1, 0, 9, 9, 4, 4, 4, 6, 6, 1, 1, 4, 9, 9, 9, 9, 1, 9, 6, 7,\n",
              "        6, 1, 1, 9, 1, 0, 1, 4, 9, 4, 1, 9, 9, 7, 9, 9], device='cuda:0')"
            ]
          },
          "metadata": {},
          "execution_count": 48
        }
      ]
    },
    {
      "cell_type": "code",
      "source": [
        "Y[0:64]"
      ],
      "metadata": {
        "colab": {
          "base_uri": "https://localhost:8080/"
        },
        "id": "-h8Gz74YKVCL",
        "outputId": "cd953999-fc99-4d0b-c730-ecfbc32628b2"
      },
      "execution_count": null,
      "outputs": [
        {
          "output_type": "execute_result",
          "data": {
            "text/plain": [
              "tensor([5., 0., 4., 1., 9., 2., 1., 3., 1., 4., 3., 5., 3., 6., 1., 7., 2., 8.,\n",
              "        6., 9., 4., 0., 9., 1., 1., 2., 4., 3., 2., 7., 3., 8., 6., 9., 0., 5.,\n",
              "        6., 0., 7., 6., 1., 8., 7., 9., 3., 9., 8., 5., 9., 3., 3., 0., 7., 4.,\n",
              "        9., 8., 0., 9., 4., 1., 4., 4., 6., 0.], device='cuda:0')"
            ]
          },
          "metadata": {},
          "execution_count": 49
        }
      ]
    },
    {
      "cell_type": "code",
      "source": [
        "y == Y[0:64]"
      ],
      "metadata": {
        "colab": {
          "base_uri": "https://localhost:8080/"
        },
        "id": "gC4DXNrHKYer",
        "outputId": "19da293e-3d68-4a99-c3e3-d000b4f3110d"
      },
      "execution_count": null,
      "outputs": [
        {
          "output_type": "execute_result",
          "data": {
            "text/plain": [
              "tensor([False, False, False, False,  True, False, False, False, False,  True,\n",
              "        False, False, False, False, False, False, False, False,  True, False,\n",
              "        False, False, False, False, False, False, False, False, False, False,\n",
              "        False, False, False, False, False, False,  True, False, False, False,\n",
              "        False, False, False,  True, False,  True, False, False, False, False,\n",
              "        False, False, False, False, False, False, False, False, False, False,\n",
              "        False, False, False, False], device='cuda:0')"
            ]
          },
          "metadata": {},
          "execution_count": 50
        }
      ]
    },
    {
      "cell_type": "code",
      "source": [
        "torch.sum((y == Y[0:64]))"
      ],
      "metadata": {
        "colab": {
          "base_uri": "https://localhost:8080/"
        },
        "id": "RmdOhGJSKgEK",
        "outputId": "b17539d3-67a5-4085-c24e-92b4426545ce"
      },
      "execution_count": null,
      "outputs": [
        {
          "output_type": "execute_result",
          "data": {
            "text/plain": [
              "tensor(6, device='cuda:0')"
            ]
          },
          "metadata": {},
          "execution_count": 51
        }
      ]
    },
    {
      "cell_type": "code",
      "source": [
        "torch.sum((y == Y[0:64]))/64"
      ],
      "metadata": {
        "id": "Y_vbum_LKix6",
        "outputId": "a2dd78d2-3b2b-4f28-a14a-b15fc693eff8",
        "colab": {
          "base_uri": "https://localhost:8080/"
        }
      },
      "execution_count": null,
      "outputs": [
        {
          "output_type": "execute_result",
          "data": {
            "text/plain": [
              "tensor(0.0938, device='cuda:0')"
            ]
          },
          "metadata": {},
          "execution_count": 52
        }
      ]
    },
    {
      "cell_type": "code",
      "source": [],
      "metadata": {
        "id": "VlHcWLndKotL"
      },
      "execution_count": null,
      "outputs": []
    },
    {
      "cell_type": "code",
      "source": [
        "batch_size = 64\n",
        "\n",
        "M = GPU(np.random.rand(10,784))\n",
        "\n",
        "y = M@x\n",
        "\n",
        "y = torch.argmax(y,0)\n",
        "\n",
        "torch.sum((y == Y[0:batch_size]))/batch_size"
      ],
      "metadata": {
        "colab": {
          "base_uri": "https://localhost:8080/"
        },
        "id": "rvBOU7RDBj5T",
        "outputId": "a26b4440-c608-4cd3-8665-79d4e44cbbae"
      },
      "execution_count": null,
      "outputs": [
        {
          "output_type": "execute_result",
          "data": {
            "text/plain": [
              "tensor(0.1250, device='cuda:0')"
            ]
          },
          "metadata": {},
          "execution_count": 53
        }
      ]
    },
    {
      "cell_type": "code",
      "source": [],
      "metadata": {
        "id": "sSleYyj3RmmF"
      },
      "execution_count": null,
      "outputs": []
    },
    {
      "cell_type": "code",
      "source": [
        "z = np.random.rand(10,784)"
      ],
      "metadata": {
        "id": "t2NshVZQRnUz"
      },
      "execution_count": null,
      "outputs": []
    },
    {
      "cell_type": "code",
      "source": [
        "z.shape"
      ],
      "metadata": {
        "colab": {
          "base_uri": "https://localhost:8080/"
        },
        "id": "bRfo8I1IRnW7",
        "outputId": "05635073-fcea-465c-a7ff-2f21deeb5c6b"
      },
      "execution_count": null,
      "outputs": [
        {
          "output_type": "execute_result",
          "data": {
            "text/plain": [
              "(10, 784)"
            ]
          },
          "metadata": {},
          "execution_count": 57
        }
      ]
    },
    {
      "cell_type": "code",
      "source": [
        "z.shape[0],z.shape[1]"
      ],
      "metadata": {
        "colab": {
          "base_uri": "https://localhost:8080/"
        },
        "id": "fR5gikC6RvQZ",
        "outputId": "38d0a2ea-e0b0-4ee8-87c2-f6f5f81e32b3"
      },
      "execution_count": null,
      "outputs": [
        {
          "output_type": "execute_result",
          "data": {
            "text/plain": [
              "(10, 784)"
            ]
          },
          "metadata": {},
          "execution_count": 59
        }
      ]
    },
    {
      "cell_type": "code",
      "source": [
        "count = z.shape[0]*z.shape[1]"
      ],
      "metadata": {
        "id": "CXy-RqlBRxOI"
      },
      "execution_count": null,
      "outputs": []
    },
    {
      "cell_type": "code",
      "source": [
        "z = z.reshape(count,)"
      ],
      "metadata": {
        "id": "PPb9QIJARnY2"
      },
      "execution_count": null,
      "outputs": []
    },
    {
      "cell_type": "code",
      "source": [
        "z.shape"
      ],
      "metadata": {
        "colab": {
          "base_uri": "https://localhost:8080/"
        },
        "id": "Oa_og2AmRstT",
        "outputId": "5b0059fa-978c-4713-e23c-a01d887a1494"
      },
      "execution_count": null,
      "outputs": [
        {
          "output_type": "execute_result",
          "data": {
            "text/plain": [
              "(7840,)"
            ]
          },
          "metadata": {},
          "execution_count": 64
        }
      ]
    },
    {
      "cell_type": "code",
      "source": [
        "z = np.random.rand(10,784)"
      ],
      "metadata": {
        "id": "UCG-u2M5Rsvb"
      },
      "execution_count": null,
      "outputs": []
    },
    {
      "cell_type": "code",
      "source": [
        "z.shape"
      ],
      "metadata": {
        "colab": {
          "base_uri": "https://localhost:8080/"
        },
        "id": "MxGr8sB1R6wc",
        "outputId": "ea7e0d9d-fdd5-4cc8-9e42-602e2a96e97a"
      },
      "execution_count": null,
      "outputs": [
        {
          "output_type": "execute_result",
          "data": {
            "text/plain": [
              "(10, 784)"
            ]
          },
          "metadata": {},
          "execution_count": 66
        }
      ]
    },
    {
      "cell_type": "code",
      "source": [
        "z = z.flatten()"
      ],
      "metadata": {
        "id": "S9etO1KUR6yk"
      },
      "execution_count": null,
      "outputs": []
    },
    {
      "cell_type": "code",
      "source": [
        "z.shape"
      ],
      "metadata": {
        "colab": {
          "base_uri": "https://localhost:8080/"
        },
        "id": "L8gt53WPSDVr",
        "outputId": "d6d1271e-965a-46d2-a6e0-c41eb52ade86"
      },
      "execution_count": null,
      "outputs": [
        {
          "output_type": "execute_result",
          "data": {
            "text/plain": [
              "(7840,)"
            ]
          },
          "metadata": {},
          "execution_count": 70
        }
      ]
    },
    {
      "cell_type": "code",
      "source": [
        "z = np.random.rand(1000,78)"
      ],
      "metadata": {
        "id": "HuyNCZImSDYT"
      },
      "execution_count": null,
      "outputs": []
    },
    {
      "cell_type": "code",
      "source": [
        "z = z.reshape(-1)"
      ],
      "metadata": {
        "id": "RRzkNDadSJNj"
      },
      "execution_count": null,
      "outputs": []
    },
    {
      "cell_type": "code",
      "source": [
        "z.shape"
      ],
      "metadata": {
        "colab": {
          "base_uri": "https://localhost:8080/"
        },
        "id": "WN_AC6yjSDaE",
        "outputId": "707c323c-88d5-46eb-ab84-8d3091824d47"
      },
      "execution_count": null,
      "outputs": [
        {
          "output_type": "execute_result",
          "data": {
            "text/plain": [
              "(78000,)"
            ]
          },
          "metadata": {},
          "execution_count": 82
        }
      ]
    },
    {
      "cell_type": "code",
      "source": [
        "plt.hist(z,1000);"
      ],
      "metadata": {
        "colab": {
          "base_uri": "https://localhost:8080/",
          "height": 430
        },
        "id": "-LEE2EF4SVvF",
        "outputId": "ffc688c3-937e-4fb7-c0d2-3b3706b3b253"
      },
      "execution_count": null,
      "outputs": [
        {
          "output_type": "display_data",
          "data": {
            "text/plain": [
              "<Figure size 640x480 with 1 Axes>"
            ],
            "image/png": "[encoded data removed]"
          },
          "metadata": {}
        }
      ]
    },
    {
      "cell_type": "code",
      "source": [
        "z = 1000*np.random.rand(10000) + 100"
      ],
      "metadata": {
        "id": "FERYPmCVS-aS"
      },
      "execution_count": null,
      "outputs": []
    },
    {
      "cell_type": "code",
      "source": [],
      "metadata": {
        "id": "FIK5sQxsUGRf"
      },
      "execution_count": null,
      "outputs": []
    },
    {
      "cell_type": "code",
      "source": [
        "z"
      ],
      "metadata": {
        "colab": {
          "base_uri": "https://localhost:8080/"
        },
        "id": "QqPoAjsWSVxf",
        "outputId": "2a7c1f0d-ca81-4122-916b-7b1354de9651"
      },
      "execution_count": null,
      "outputs": [
        {
          "output_type": "execute_result",
          "data": {
            "text/plain": [
              "array([ 701, 1032, 1057, ...,  531,  312,  598])"
            ]
          },
          "metadata": {},
          "execution_count": 115
        }
      ]
    },
    {
      "cell_type": "code",
      "source": [
        "np.max(z)"
      ],
      "metadata": {
        "colab": {
          "base_uri": "https://localhost:8080/"
        },
        "id": "04C6QGntT_1m",
        "outputId": "7bbad5f6-e1a8-4d0b-e216-c77c0a6ad691"
      },
      "execution_count": null,
      "outputs": [
        {
          "output_type": "execute_result",
          "data": {
            "text/plain": [
              "1099"
            ]
          },
          "metadata": {},
          "execution_count": 116
        }
      ]
    },
    {
      "cell_type": "code",
      "source": [
        "z =z.astype(int)"
      ],
      "metadata": {
        "id": "c9s3fNv1TP4h"
      },
      "execution_count": null,
      "outputs": []
    },
    {
      "cell_type": "code",
      "source": [
        "plt.hist(z,100);"
      ],
      "metadata": {
        "colab": {
          "base_uri": "https://localhost:8080/",
          "height": 430
        },
        "id": "9AP-4Su2SDb8",
        "outputId": "37ac6b0d-81a3-471e-b25a-b0c919af5ad2"
      },
      "execution_count": null,
      "outputs": [
        {
          "output_type": "display_data",
          "data": {
            "text/plain": [
              "<Figure size 640x480 with 1 Axes>"
            ],
            "image/png": "[encoded data removed]"
          },
          "metadata": {}
        }
      ]
    },
    {
      "cell_type": "code",
      "source": [
        "z"
      ],
      "metadata": {
        "colab": {
          "base_uri": "https://localhost:8080/"
        },
        "id": "Xu8QIrrnTK74",
        "outputId": "85377943-d3c5-4aec-87c9-f63f795cc6da"
      },
      "execution_count": null,
      "outputs": [
        {
          "output_type": "execute_result",
          "data": {
            "text/plain": [
              "array([ 701, 1032, 1057, ...,  531,  312,  598])"
            ]
          },
          "metadata": {},
          "execution_count": 114
        }
      ]
    },
    {
      "cell_type": "code",
      "source": [],
      "metadata": {
        "id": "h1dl16fFThv4"
      },
      "execution_count": null,
      "outputs": []
    },
    {
      "cell_type": "code",
      "source": [
        "z = 10*np.random.randn(10000) - 10"
      ],
      "metadata": {
        "id": "m1vgsRysT0fH"
      },
      "execution_count": null,
      "outputs": []
    },
    {
      "cell_type": "code",
      "source": [
        "z = z.flatten()"
      ],
      "metadata": {
        "id": "_eNfRh4TT0hX"
      },
      "execution_count": null,
      "outputs": []
    },
    {
      "cell_type": "code",
      "source": [
        "plt.hist(z,100);"
      ],
      "metadata": {
        "colab": {
          "base_uri": "https://localhost:8080/",
          "height": 430
        },
        "id": "LcjXklZBT0jO",
        "outputId": "e638109b-c34f-472b-a091-b5c0204328c1"
      },
      "execution_count": null,
      "outputs": [
        {
          "output_type": "display_data",
          "data": {
            "text/plain": [
              "<Figure size 640x480 with 1 Axes>"
            ],
            "image/png": "[encoded data removed]"
          },
          "metadata": {}
        }
      ]
    },
    {
      "cell_type": "code",
      "source": [
        "z = np.random.randn(10,10)\n",
        "plt.imshow(z)\n",
        "plt.colorbar()"
      ],
      "metadata": {
        "colab": {
          "base_uri": "https://localhost:8080/",
          "height": 448
        },
        "id": "4YLBfOyWU-Nl",
        "outputId": "a54595a4-e4c7-4a4a-ce32-ede052ff2915"
      },
      "execution_count": null,
      "outputs": [
        {
          "output_type": "execute_result",
          "data": {
            "text/plain": [
              "<matplotlib.colorbar.Colorbar at 0x79996695aaa0>"
            ]
          },
          "metadata": {},
          "execution_count": 138
        },
        {
          "output_type": "display_data",
          "data": {
            "text/plain": [
              "<Figure size 640x480 with 2 Axes>"
            ],
            "image/png": "[encoded data removed]"
          },
          "metadata": {}
        }
      ]
    },
    {
      "cell_type": "code",
      "source": [
        "z = np.random.rand(10,10)\n",
        "plt.imshow(z)\n",
        "plt.colorbar()"
      ],
      "metadata": {
        "colab": {
          "base_uri": "https://localhost:8080/",
          "height": 448
        },
        "id": "bIAigqtKVOmL",
        "outputId": "002fbd86-19e1-46f3-c312-872fdc7b72a0"
      },
      "execution_count": null,
      "outputs": [
        {
          "output_type": "execute_result",
          "data": {
            "text/plain": [
              "<matplotlib.colorbar.Colorbar at 0x799966dc4cd0>"
            ]
          },
          "metadata": {},
          "execution_count": 139
        },
        {
          "output_type": "display_data",
          "data": {
            "text/plain": [
              "<Figure size 640x480 with 2 Axes>"
            ],
            "image/png": "[encoded data removed]"
          },
          "metadata": {}
        }
      ]
    },
    {
      "cell_type": "code",
      "source": [],
      "metadata": {
        "id": "_PcDqVjVVOou"
      },
      "execution_count": null,
      "outputs": []
    },
    {
      "cell_type": "code",
      "source": [
        "M_Best = 0\n",
        "Score_Best = 0\n",
        "\n",
        "for i in range(100000):\n",
        "\n",
        "    M_new = GPU(np.random.rand(10,784))\n",
        "\n",
        "    y = M_new@x\n",
        "\n",
        "    y = torch.argmax(y,0)\n",
        "\n",
        "    Score = (torch.sum((y == Y[0:batch_size]))/batch_size).item()\n",
        "\n",
        "    if Score > Score_Best:\n",
        "\n",
        "        Score_Best = Score\n",
        "        M_Best = M_new\n",
        "\n",
        "        print(i,Score_Best)\n",
        "\n"
      ],
      "metadata": {
        "id": "6eVpNWpUBgiz"
      },
      "execution_count": null,
      "outputs": []
    },
    {
      "cell_type": "code",
      "source": [
        "#37"
      ],
      "metadata": {
        "id": "5uhymgL3Bgky"
      },
      "execution_count": null,
      "outputs": []
    },
    {
      "cell_type": "code",
      "source": [
        "plot(GPU(np.random.randn(10,784)))"
      ],
      "metadata": {
        "colab": {
          "base_uri": "https://localhost:8080/",
          "height": 43
        },
        "id": "_mnYUnWHF4eZ",
        "outputId": "70813ec6-b835-4cc9-a06c-ea228f66c1e7"
      },
      "execution_count": null,
      "outputs": [
        {
          "output_type": "display_data",
          "data": {
            "text/plain": [
              "<Figure size 700x700 with 1 Axes>"
            ],
            "image/png": "[encoded data removed]"
          },
          "metadata": {}
        }
      ]
    },
    {
      "cell_type": "code",
      "source": [],
      "metadata": {
        "id": "fHiYBSJjlIgE"
      },
      "execution_count": null,
      "outputs": []
    },
    {
      "cell_type": "code",
      "source": [],
      "metadata": {
        "id": "O7L7x00KlRos"
      },
      "execution_count": null,
      "outputs": []
    },
    {
      "cell_type": "code",
      "source": [],
      "metadata": {
        "id": "1te8vAKNlRsL"
      },
      "execution_count": null,
      "outputs": []
    },
    {
      "cell_type": "code",
      "source": [],
      "metadata": {
        "id": "lXSb3TsulRu-"
      },
      "execution_count": null,
      "outputs": []
    },
    {
      "cell_type": "code",
      "source": [],
      "metadata": {
        "id": "tJ3hAhfOlRxl"
      },
      "execution_count": null,
      "outputs": []
    },
    {
      "cell_type": "code",
      "source": [],
      "metadata": {
        "id": "txTj8SoelRzx"
      },
      "execution_count": null,
      "outputs": []
    },
    {
      "cell_type": "code",
      "source": [],
      "metadata": {
        "id": "E5abJlDRlR2L"
      },
      "execution_count": null,
      "outputs": []
    },
    {
      "cell_type": "code",
      "source": [
        "# Random Walk"
      ],
      "metadata": {
        "id": "3DTpAf2AlR4X"
      },
      "execution_count": null,
      "outputs": []
    },
    {
      "cell_type": "code",
      "source": [
        "import torch\n",
        "import numpy as np\n",
        "import torchvision\n",
        "import torchvision.datasets as datasets\n",
        "import matplotlib.pyplot as plt"
      ],
      "metadata": {
        "id": "X3TWsxFre9G5"
      },
      "execution_count": null,
      "outputs": []
    },
    {
      "cell_type": "code",
      "source": [
        "def plot(x,title=None):\n",
        "    if type(x) == torch.Tensor :\n",
        "        x = x.cpu().detach().numpy()\n",
        "\n",
        "    fig, ax = plt.subplots()\n",
        "    im = ax.imshow(x, cmap = 'gray')\n",
        "    ax.axis('off')\n",
        "    fig.set_size_inches(7, 7)\n",
        "    plt.title(title)\n",
        "    plt.show()"
      ],
      "metadata": {
        "id": "GCpFIiRFnhYA"
      },
      "execution_count": null,
      "outputs": []
    },
    {
      "cell_type": "code",
      "source": [
        "##MNIST\n",
        "# train_set = datasets.MNIST('./data', train=True, download=True)\n",
        "# test_set = datasets.MNIST('./data', train=False, download=True)\n",
        "\n",
        "#KMNIST\n",
        "train_set = datasets.KMNIST('./data', train=True, download=True)\n",
        "test_set = datasets.KMNIST('./data', train=False, download=True)\n",
        "\n",
        "# Fashion MNIST\n",
        "#train_set = datasets.FashionMNIST('./data', train=True, download=True)\n",
        "#test_set = datasets.FashionMNIST('./data', train=False, download=True)"
      ],
      "metadata": {
        "id": "ZSjTh1VbfLhd",
        "colab": {
          "base_uri": "https://localhost:8080/"
        },
        "outputId": "e50078e2-27df-4a7b-e717-81468851f789"
      },
      "execution_count": null,
      "outputs": [
        {
          "output_type": "stream",
          "name": "stdout",
          "text": [
            "Downloading http://codh.rois.ac.jp/kmnist/dataset/kmnist/train-images-idx3-ubyte.gz\n",
            "Downloading http://codh.rois.ac.jp/kmnist/dataset/kmnist/train-images-idx3-ubyte.gz to ./data/KMNIST/raw/train-images-idx3-ubyte.gz\n"
          ]
        },
        {
          "output_type": "stream",
          "name": "stderr",
          "text": [
            "100%|██████████| 18165135/18165135 [00:13<00:00, 1341393.75it/s]\n"
          ]
        },
        {
          "output_type": "stream",
          "name": "stdout",
          "text": [
            "Extracting ./data/KMNIST/raw/train-images-idx3-ubyte.gz to ./data/KMNIST/raw\n",
            "\n",
            "Downloading http://codh.rois.ac.jp/kmnist/dataset/kmnist/train-labels-idx1-ubyte.gz\n",
            "Downloading http://codh.rois.ac.jp/kmnist/dataset/kmnist/train-labels-idx1-ubyte.gz to ./data/KMNIST/raw/train-labels-idx1-ubyte.gz\n"
          ]
        },
        {
          "output_type": "stream",
          "name": "stderr",
          "text": [
            "100%|██████████| 29497/29497 [00:00<00:00, 201430.45it/s]\n"
          ]
        },
        {
          "output_type": "stream",
          "name": "stdout",
          "text": [
            "Extracting ./data/KMNIST/raw/train-labels-idx1-ubyte.gz to ./data/KMNIST/raw\n",
            "\n",
            "Downloading http://codh.rois.ac.jp/kmnist/dataset/kmnist/t10k-images-idx3-ubyte.gz\n",
            "Downloading http://codh.rois.ac.jp/kmnist/dataset/kmnist/t10k-images-idx3-ubyte.gz to ./data/KMNIST/raw/t10k-images-idx3-ubyte.gz\n"
          ]
        },
        {
          "output_type": "stream",
          "name": "stderr",
          "text": [
            "100%|██████████| 3041136/3041136 [00:03<00:00, 993453.24it/s] \n"
          ]
        },
        {
          "output_type": "stream",
          "name": "stdout",
          "text": [
            "Extracting ./data/KMNIST/raw/t10k-images-idx3-ubyte.gz to ./data/KMNIST/raw\n",
            "\n",
            "Downloading http://codh.rois.ac.jp/kmnist/dataset/kmnist/t10k-labels-idx1-ubyte.gz\n",
            "Downloading http://codh.rois.ac.jp/kmnist/dataset/kmnist/t10k-labels-idx1-ubyte.gz to ./data/KMNIST/raw/t10k-labels-idx1-ubyte.gz\n"
          ]
        },
        {
          "output_type": "stream",
          "name": "stderr",
          "text": [
            "100%|██████████| 5120/5120 [00:00<00:00, 6406574.13it/s]"
          ]
        },
        {
          "output_type": "stream",
          "name": "stdout",
          "text": [
            "Extracting ./data/KMNIST/raw/t10k-labels-idx1-ubyte.gz to ./data/KMNIST/raw\n",
            "\n"
          ]
        },
        {
          "output_type": "stream",
          "name": "stderr",
          "text": [
            "\n"
          ]
        }
      ]
    },
    {
      "cell_type": "code",
      "source": [
        "X = train_set.data.numpy()\n",
        "X_test = test_set.data.numpy()\n",
        "Y = train_set.targets.numpy()\n",
        "Y_test = test_set.targets.numpy()\n",
        "\n",
        "X = X[:,None,:,:]/255\n",
        "X_test = X_test[:,None,:,:]/255"
      ],
      "metadata": {
        "id": "ou4RzKGbfOO2"
      },
      "execution_count": null,
      "outputs": []
    },
    {
      "cell_type": "code",
      "source": [
        "X.shape"
      ],
      "metadata": {
        "colab": {
          "base_uri": "https://localhost:8080/"
        },
        "id": "nQqpKb35fZow",
        "outputId": "b50a5f94-4541-439f-ecad-a433c615d670"
      },
      "execution_count": null,
      "outputs": [
        {
          "output_type": "execute_result",
          "data": {
            "text/plain": [
              "(60000, 1, 28, 28)"
            ]
          },
          "metadata": {},
          "execution_count": 227
        }
      ]
    },
    {
      "cell_type": "code",
      "source": [
        "plt.imshow(X[0,0,:,:],cmap='gray')"
      ],
      "metadata": {
        "id": "OSO7fEmpfp7H",
        "colab": {
          "base_uri": "https://localhost:8080/",
          "height": 448
        },
        "outputId": "eddbc835-205a-4e3c-a9bf-c9ac02af5190"
      },
      "execution_count": null,
      "outputs": [
        {
          "output_type": "execute_result",
          "data": {
            "text/plain": [
              "<matplotlib.image.AxesImage at 0x7999661cdb10>"
            ]
          },
          "metadata": {},
          "execution_count": 228
        },
        {
          "output_type": "display_data",
          "data": {
            "text/plain": [
              "<Figure size 640x480 with 1 Axes>"
            ],
            "image/png": "[encoded data removed]"
          },
          "metadata": {}
        }
      ]
    },
    {
      "cell_type": "code",
      "source": [
        "\n",
        "for i in range(10):\n",
        "    plt.imshow(X[i,0,:,:],cmap='gray')\n",
        "    plt.title(str(Y[i]))\n",
        "    plt.show()"
      ],
      "metadata": {
        "id": "KS0DeV8rf-yw",
        "colab": {
          "base_uri": "https://localhost:8080/",
          "height": 1000
        },
        "outputId": "1755820d-1418-418c-cf09-fb4598a12dab"
      },
      "execution_count": null,
      "outputs": [
        {
          "output_type": "display_data",
          "data": {
            "text/plain": [
              "<Figure size 640x480 with 1 Axes>"
            ],
            "image/png": "[encoded data removed]"
          },
          "metadata": {}
        },
        {
          "output_type": "display_data",
          "data": {
            "text/plain": [
              "<Figure size 640x480 with 1 Axes>"
            ],
            "image/png": "[encoded data removed]"
          },
          "metadata": {}
        },
        {
          "output_type": "display_data",
          "data": {
            "text/plain": [
              "<Figure size 640x480 with 1 Axes>"
            ],
            "image/png": "[encoded data removed]"
          },
          "metadata": {}
        },
        {
          "output_type": "display_data",
          "data": {
            "text/plain": [
              "<Figure size 640x480 with 1 Axes>"
            ],
            "image/png": "[encoded data removed]"
          },
          "metadata": {}
        },
        {
          "output_type": "display_data",
          "data": {
            "text/plain": [
              "<Figure size 640x480 with 1 Axes>"
            ],
            "image/png": "[encoded data removed]"
          },
          "metadata": {}
        },
        {
          "output_type": "display_data",
          "data": {
            "text/plain": [
              "<Figure size 640x480 with 1 Axes>"
            ],
            "image/png": "[encoded data removed]"
          },
          "metadata": {}
        },
        {
          "output_type": "display_data",
          "data": {
            "text/plain": [
              "<Figure size 640x480 with 1 Axes>"
            ],
            "image/png": "[encoded data removed]"
          },
          "metadata": {}
        },
        {
          "output_type": "display_data",
          "data": {
            "text/plain": [
              "<Figure size 640x480 with 1 Axes>"
            ],
            "image/png": "[encoded data removed]"
          },
          "metadata": {}
        },
        {
          "output_type": "display_data",
          "data": {
            "text/plain": [
              "<Figure size 640x480 with 1 Axes>"
            ],
            "image/png": "[encoded data removed]"
          },
          "metadata": {}
        },
        {
          "output_type": "display_data",
          "data": {
            "text/plain": [
              "<Figure size 640x480 with 1 Axes>"
            ],
            "image/png": "[encoded data removed]"
          },
          "metadata": {}
        }
      ]
    },
    {
      "cell_type": "code",
      "source": [
        "Y[0:10]"
      ],
      "metadata": {
        "colab": {
          "base_uri": "https://localhost:8080/"
        },
        "id": "3NhqnG9sgLDt",
        "outputId": "2de10a2d-d06e-4c5c-b392-b39714cb0015"
      },
      "execution_count": null,
      "outputs": [
        {
          "output_type": "execute_result",
          "data": {
            "text/plain": [
              "array([8, 7, 0, 1, 4, 2, 4, 8, 1, 1])"
            ]
          },
          "metadata": {},
          "execution_count": 230
        }
      ]
    },
    {
      "cell_type": "code",
      "source": [
        "X[0,0,:,:].shape"
      ],
      "metadata": {
        "colab": {
          "base_uri": "https://localhost:8080/"
        },
        "id": "yoVzBNsRgt_m",
        "outputId": "fbcbfadd-6481-4a34-8a9b-de33e799c1d3"
      },
      "execution_count": null,
      "outputs": [
        {
          "output_type": "execute_result",
          "data": {
            "text/plain": [
              "(28, 28)"
            ]
          },
          "metadata": {},
          "execution_count": 231
        }
      ]
    },
    {
      "cell_type": "code",
      "source": [
        "x = X[0,0,:,:].flatten()"
      ],
      "metadata": {
        "id": "Hu1AhSTFhCEj"
      },
      "execution_count": null,
      "outputs": []
    },
    {
      "cell_type": "code",
      "source": [
        "x.shape"
      ],
      "metadata": {
        "colab": {
          "base_uri": "https://localhost:8080/"
        },
        "id": "KXsLqoTxhFCC",
        "outputId": "4e6e8463-6075-4e81-c9cc-e4e3c381ca9d"
      },
      "execution_count": null,
      "outputs": [
        {
          "output_type": "execute_result",
          "data": {
            "text/plain": [
              "(784,)"
            ]
          },
          "metadata": {},
          "execution_count": 233
        }
      ]
    },
    {
      "cell_type": "code",
      "source": [
        "plt.plot(x,'.')"
      ],
      "metadata": {
        "colab": {
          "base_uri": "https://localhost:8080/",
          "height": 448
        },
        "id": "UeiHBEjjhJqi",
        "outputId": "7cfb9520-e88b-4315-a4ff-3106b2675702"
      },
      "execution_count": null,
      "outputs": [
        {
          "output_type": "execute_result",
          "data": {
            "text/plain": [
              "[<matplotlib.lines.Line2D at 0x79996a4af130>]"
            ]
          },
          "metadata": {},
          "execution_count": 234
        },
        {
          "output_type": "display_data",
          "data": {
            "text/plain": [
              "<Figure size 640x480 with 1 Axes>"
            ],
            "image/png": "[encoded data removed]"
          },
          "metadata": {}
        }
      ]
    },
    {
      "cell_type": "code",
      "source": [
        "Y[0]"
      ],
      "metadata": {
        "colab": {
          "base_uri": "https://localhost:8080/"
        },
        "id": "NJvaK9M3hNI4",
        "outputId": "fced7d22-d548-4d8f-b303-36ded3243ba4"
      },
      "execution_count": null,
      "outputs": [
        {
          "output_type": "execute_result",
          "data": {
            "text/plain": [
              "8"
            ]
          },
          "metadata": {},
          "execution_count": 235
        }
      ]
    },
    {
      "cell_type": "code",
      "source": [
        "x = x[:,None]"
      ],
      "metadata": {
        "id": "3fP4Jwl4hbCM"
      },
      "execution_count": null,
      "outputs": []
    },
    {
      "cell_type": "code",
      "source": [
        "x.shape"
      ],
      "metadata": {
        "colab": {
          "base_uri": "https://localhost:8080/"
        },
        "id": "BOHY0I2xhj7N",
        "outputId": "c3db447e-059f-4ce6-87d7-183975e9b869"
      },
      "execution_count": null,
      "outputs": [
        {
          "output_type": "execute_result",
          "data": {
            "text/plain": [
              "(784, 1)"
            ]
          },
          "metadata": {},
          "execution_count": 237
        }
      ]
    },
    {
      "cell_type": "code",
      "source": [
        "m = np.random.standard_normal((10,784))"
      ],
      "metadata": {
        "id": "W5yrXHqdhla4"
      },
      "execution_count": null,
      "outputs": []
    },
    {
      "cell_type": "code",
      "source": [
        "m.shape,x.shape"
      ],
      "metadata": {
        "colab": {
          "base_uri": "https://localhost:8080/"
        },
        "id": "p-EpGKJWihPn",
        "outputId": "4c051f85-1001-4a21-9929-df2164a21f49"
      },
      "execution_count": null,
      "outputs": [
        {
          "output_type": "execute_result",
          "data": {
            "text/plain": [
              "((10, 784), (784, 1))"
            ]
          },
          "metadata": {},
          "execution_count": 239
        }
      ]
    },
    {
      "cell_type": "code",
      "source": [
        "y = m@x # @ mean matmul"
      ],
      "metadata": {
        "id": "Ey55572Kipzy"
      },
      "execution_count": null,
      "outputs": []
    },
    {
      "cell_type": "code",
      "source": [
        "y = np.matmul(m,x)"
      ],
      "metadata": {
        "id": "zswWV2_txFTC"
      },
      "execution_count": null,
      "outputs": []
    },
    {
      "cell_type": "code",
      "source": [
        "y.shape"
      ],
      "metadata": {
        "colab": {
          "base_uri": "https://localhost:8080/"
        },
        "id": "oqeYB-OIxM83",
        "outputId": "997a771a-7a92-4dfa-b688-8f368d46c012"
      },
      "execution_count": null,
      "outputs": [
        {
          "output_type": "execute_result",
          "data": {
            "text/plain": [
              "(10, 1)"
            ]
          },
          "metadata": {},
          "execution_count": 242
        }
      ]
    },
    {
      "cell_type": "code",
      "source": [
        "plt.plot(y,'.')"
      ],
      "metadata": {
        "colab": {
          "base_uri": "https://localhost:8080/",
          "height": 448
        },
        "id": "v32LN4GKiyFK",
        "outputId": "c902b0d4-4f83-4538-9698-1c6809e79b20"
      },
      "execution_count": null,
      "outputs": [
        {
          "output_type": "execute_result",
          "data": {
            "text/plain": [
              "[<matplotlib.lines.Line2D at 0x79996a546620>]"
            ]
          },
          "metadata": {},
          "execution_count": 243
        },
        {
          "output_type": "display_data",
          "data": {
            "text/plain": [
              "<Figure size 640x480 with 1 Axes>"
            ],
            "image/png": "[encoded data removed]"
          },
          "metadata": {}
        }
      ]
    },
    {
      "cell_type": "code",
      "source": [
        "plt.imshow(x.reshape(28,28))"
      ],
      "metadata": {
        "colab": {
          "base_uri": "https://localhost:8080/",
          "height": 448
        },
        "id": "YVh4mUWRi2Zg",
        "outputId": "7c6257ec-f98e-4e0e-e052-6502dc8cdf56"
      },
      "execution_count": null,
      "outputs": [
        {
          "output_type": "execute_result",
          "data": {
            "text/plain": [
              "<matplotlib.image.AxesImage at 0x79996a3a06a0>"
            ]
          },
          "metadata": {},
          "execution_count": 244
        },
        {
          "output_type": "display_data",
          "data": {
            "text/plain": [
              "<Figure size 640x480 with 1 Axes>"
            ],
            "image/png": "[encoded data removed]"
          },
          "metadata": {}
        }
      ]
    },
    {
      "cell_type": "code",
      "source": [
        "X.shape"
      ],
      "metadata": {
        "colab": {
          "base_uri": "https://localhost:8080/"
        },
        "id": "ZIi-Di8ji_xC",
        "outputId": "c5970ec9-be06-4e0a-a061-aaa13c5ec926"
      },
      "execution_count": null,
      "outputs": [
        {
          "output_type": "execute_result",
          "data": {
            "text/plain": [
              "(60000, 1, 28, 28)"
            ]
          },
          "metadata": {},
          "execution_count": 245
        }
      ]
    },
    {
      "cell_type": "code",
      "source": [
        "X.shape[0]"
      ],
      "metadata": {
        "colab": {
          "base_uri": "https://localhost:8080/"
        },
        "id": "8fSU88ALjxcG",
        "outputId": "d9174a15-46e3-4cef-cdb4-9b0236e14e79"
      },
      "execution_count": null,
      "outputs": [
        {
          "output_type": "execute_result",
          "data": {
            "text/plain": [
              "60000"
            ]
          },
          "metadata": {},
          "execution_count": 246
        }
      ]
    },
    {
      "cell_type": "code",
      "source": [
        "X.shape[2]*X.shape[3]"
      ],
      "metadata": {
        "colab": {
          "base_uri": "https://localhost:8080/"
        },
        "id": "9whZv4ctj0Gp",
        "outputId": "3b913f8e-ade9-40ef-c167-6594c1960d7a"
      },
      "execution_count": null,
      "outputs": [
        {
          "output_type": "execute_result",
          "data": {
            "text/plain": [
              "784"
            ]
          },
          "metadata": {},
          "execution_count": 247
        }
      ]
    },
    {
      "cell_type": "code",
      "source": [
        "X = np.reshape(X, (X.shape[0],X.shape[2]*X.shape[3]))\n",
        "X_test = np.reshape(X_test, (X_test.shape[0],X_test.shape[2]*X_test.shape[3]))"
      ],
      "metadata": {
        "id": "HdE8XvU_jYgU"
      },
      "execution_count": null,
      "outputs": []
    },
    {
      "cell_type": "code",
      "source": [
        "X.shape"
      ],
      "metadata": {
        "colab": {
          "base_uri": "https://localhost:8080/"
        },
        "id": "_-sFrW0gj716",
        "outputId": "c21599b0-46e2-4bce-aa71-3ad26442d80f"
      },
      "execution_count": null,
      "outputs": [
        {
          "output_type": "execute_result",
          "data": {
            "text/plain": [
              "(60000, 784)"
            ]
          },
          "metadata": {},
          "execution_count": 249
        }
      ]
    },
    {
      "cell_type": "code",
      "source": [
        "plt.imshow(X[1000,:].reshape(28,28))"
      ],
      "metadata": {
        "colab": {
          "base_uri": "https://localhost:8080/",
          "height": 448
        },
        "id": "txoBhjwBj95y",
        "outputId": "654bab01-fc90-4555-c7cd-05ae8c65594f"
      },
      "execution_count": null,
      "outputs": [
        {
          "output_type": "execute_result",
          "data": {
            "text/plain": [
              "<matplotlib.image.AxesImage at 0x79996a420400>"
            ]
          },
          "metadata": {},
          "execution_count": 250
        },
        {
          "output_type": "display_data",
          "data": {
            "text/plain": [
              "<Figure size 640x480 with 1 Axes>"
            ],
            "image/png": "[encoded data removed]"
          },
          "metadata": {}
        }
      ]
    },
    {
      "cell_type": "code",
      "source": [
        "Y[1000]"
      ],
      "metadata": {
        "colab": {
          "base_uri": "https://localhost:8080/"
        },
        "id": "l8CZaznOxt6h",
        "outputId": "19537e30-1a4f-4e8b-8bf0-e5b945666dd0"
      },
      "execution_count": null,
      "outputs": [
        {
          "output_type": "execute_result",
          "data": {
            "text/plain": [
              "3"
            ]
          },
          "metadata": {},
          "execution_count": 251
        }
      ]
    },
    {
      "cell_type": "code",
      "source": [
        "x = X[0:2,:]"
      ],
      "metadata": {
        "id": "J697Nvj8kHmS"
      },
      "execution_count": null,
      "outputs": []
    },
    {
      "cell_type": "code",
      "source": [
        "x.shape"
      ],
      "metadata": {
        "colab": {
          "base_uri": "https://localhost:8080/"
        },
        "id": "YctgmjB6kNer",
        "outputId": "ea347c88-71b0-4757-e45c-96cca1c7278d"
      },
      "execution_count": null,
      "outputs": [
        {
          "output_type": "execute_result",
          "data": {
            "text/plain": [
              "(2, 784)"
            ]
          },
          "metadata": {},
          "execution_count": 253
        }
      ]
    },
    {
      "cell_type": "code",
      "source": [
        "x = x.T"
      ],
      "metadata": {
        "id": "XpFHb_pPkOnt"
      },
      "execution_count": null,
      "outputs": []
    },
    {
      "cell_type": "code",
      "source": [
        "m.shape,x.shape"
      ],
      "metadata": {
        "colab": {
          "base_uri": "https://localhost:8080/"
        },
        "id": "H7GfpLKakZKv",
        "outputId": "128014fc-63cb-4b03-f556-27479707454c"
      },
      "execution_count": null,
      "outputs": [
        {
          "output_type": "execute_result",
          "data": {
            "text/plain": [
              "((10, 784), (784, 2))"
            ]
          },
          "metadata": {},
          "execution_count": 255
        }
      ]
    },
    {
      "cell_type": "code",
      "source": [
        "y = m@x"
      ],
      "metadata": {
        "id": "DIM1EUNkkbKi"
      },
      "execution_count": null,
      "outputs": []
    },
    {
      "cell_type": "code",
      "source": [
        "y"
      ],
      "metadata": {
        "id": "32oVbJOTkr1u",
        "colab": {
          "base_uri": "https://localhost:8080/"
        },
        "outputId": "ee5ddc0e-5cbc-4b00-8a28-8a4982162c2f"
      },
      "execution_count": null,
      "outputs": [
        {
          "output_type": "execute_result",
          "data": {
            "text/plain": [
              "array([[  2.02776964,  -2.65141831],\n",
              "       [  3.36193454,   0.35205301],\n",
              "       [ 16.41708312,  15.07103832],\n",
              "       [ -2.22597695,  12.80512466],\n",
              "       [-19.68281089, -24.87134462],\n",
              "       [ 13.53781008,  14.18171005],\n",
              "       [ 12.53514404,  14.8779231 ],\n",
              "       [  0.55347142, -11.97108023],\n",
              "       [  4.11962146,  -2.97326031],\n",
              "       [ 12.46788455,   1.32825166]])"
            ]
          },
          "metadata": {},
          "execution_count": 257
        }
      ]
    },
    {
      "cell_type": "code",
      "source": [
        "np.max(y, axis=0)"
      ],
      "metadata": {
        "colab": {
          "base_uri": "https://localhost:8080/"
        },
        "id": "L2-3GuXNkubM",
        "outputId": "86f7b277-3d90-4ccb-9a0c-6a4d123c89b3"
      },
      "execution_count": null,
      "outputs": [
        {
          "output_type": "execute_result",
          "data": {
            "text/plain": [
              "array([16.41708312, 15.07103832])"
            ]
          },
          "metadata": {},
          "execution_count": 258
        }
      ]
    },
    {
      "cell_type": "code",
      "source": [
        "y = np.argmax(y, axis=0)"
      ],
      "metadata": {
        "id": "4XvZy4P7kxMD"
      },
      "execution_count": null,
      "outputs": []
    },
    {
      "cell_type": "code",
      "source": [
        "Y[0:2]"
      ],
      "metadata": {
        "colab": {
          "base_uri": "https://localhost:8080/"
        },
        "id": "pCAnw3q8k_61",
        "outputId": "bda69d6c-e0e1-4483-fe53-4b5d623ca8d4"
      },
      "execution_count": null,
      "outputs": [
        {
          "output_type": "execute_result",
          "data": {
            "text/plain": [
              "array([8, 7])"
            ]
          },
          "metadata": {},
          "execution_count": 260
        }
      ]
    },
    {
      "cell_type": "code",
      "source": [
        "y_ans = Y[0:2]"
      ],
      "metadata": {
        "id": "YfBj_0mvlHAI"
      },
      "execution_count": null,
      "outputs": []
    },
    {
      "cell_type": "code",
      "source": [
        "y_ans"
      ],
      "metadata": {
        "colab": {
          "base_uri": "https://localhost:8080/"
        },
        "id": "lUfVEqDLlT5L",
        "outputId": "fe8241d9-ac97-413d-ba94-31bce7e8ae39"
      },
      "execution_count": null,
      "outputs": [
        {
          "output_type": "execute_result",
          "data": {
            "text/plain": [
              "array([8, 7])"
            ]
          },
          "metadata": {},
          "execution_count": 262
        }
      ]
    },
    {
      "cell_type": "code",
      "source": [
        "y"
      ],
      "metadata": {
        "colab": {
          "base_uri": "https://localhost:8080/"
        },
        "id": "8zmHStmjla45",
        "outputId": "da556fe4-ef5f-47ee-bb36-44e08eb147e3"
      },
      "execution_count": null,
      "outputs": [
        {
          "output_type": "execute_result",
          "data": {
            "text/plain": [
              "array([2, 2])"
            ]
          },
          "metadata": {},
          "execution_count": 263
        }
      ]
    },
    {
      "cell_type": "code",
      "source": [
        "np.sum((y == y_ans))/len(y)"
      ],
      "metadata": {
        "colab": {
          "base_uri": "https://localhost:8080/"
        },
        "id": "ra5-je6slblR",
        "outputId": "a7353959-0c61-47fb-c94a-8a9946e94ad7"
      },
      "execution_count": null,
      "outputs": [
        {
          "output_type": "execute_result",
          "data": {
            "text/plain": [
              "0.0"
            ]
          },
          "metadata": {},
          "execution_count": 264
        }
      ]
    },
    {
      "cell_type": "code",
      "source": [
        "X.shape"
      ],
      "metadata": {
        "colab": {
          "base_uri": "https://localhost:8080/"
        },
        "id": "LC5DUhmrlikz",
        "outputId": "358f7ce0-4335-4234-eacc-d7e014955817"
      },
      "execution_count": null,
      "outputs": [
        {
          "output_type": "execute_result",
          "data": {
            "text/plain": [
              "(60000, 784)"
            ]
          },
          "metadata": {},
          "execution_count": 265
        }
      ]
    },
    {
      "cell_type": "code",
      "source": [
        "X = X.T"
      ],
      "metadata": {
        "id": "gCDDEnP6ltXe"
      },
      "execution_count": null,
      "outputs": []
    },
    {
      "cell_type": "code",
      "source": [
        "X_test = X_test.T"
      ],
      "metadata": {
        "id": "YZGyGTgnPzKS"
      },
      "execution_count": null,
      "outputs": []
    },
    {
      "cell_type": "code",
      "source": [
        "m.shape,X.shape"
      ],
      "metadata": {
        "colab": {
          "base_uri": "https://localhost:8080/"
        },
        "id": "lhVq3XMUlz-1",
        "outputId": "41693fa4-5623-460a-9132-0bfe5605022d"
      },
      "execution_count": null,
      "outputs": [
        {
          "output_type": "execute_result",
          "data": {
            "text/plain": [
              "((10, 784), (784, 60000))"
            ]
          },
          "metadata": {},
          "execution_count": 268
        }
      ]
    },
    {
      "cell_type": "code",
      "source": [
        "y = m@X"
      ],
      "metadata": {
        "id": "f2KajRqMl0kn"
      },
      "execution_count": null,
      "outputs": []
    },
    {
      "cell_type": "code",
      "source": [
        "y.shape"
      ],
      "metadata": {
        "colab": {
          "base_uri": "https://localhost:8080/"
        },
        "id": "yQWfA9cel-YF",
        "outputId": "a7e64765-abc3-42e0-ad03-a479d8c80d33"
      },
      "execution_count": null,
      "outputs": [
        {
          "output_type": "execute_result",
          "data": {
            "text/plain": [
              "(10, 60000)"
            ]
          },
          "metadata": {},
          "execution_count": 270
        }
      ]
    },
    {
      "cell_type": "code",
      "source": [
        "y = np.argmax(y, axis=0)"
      ],
      "metadata": {
        "id": "kHcUiPggmAwF"
      },
      "execution_count": null,
      "outputs": []
    },
    {
      "cell_type": "code",
      "source": [
        "y_ans = Y"
      ],
      "metadata": {
        "id": "xih9q1sRmEND"
      },
      "execution_count": null,
      "outputs": []
    },
    {
      "cell_type": "code",
      "source": [
        "acc = np.sum(y == y_ans)/len(Y)"
      ],
      "metadata": {
        "id": "hcRN60bFmG0J"
      },
      "execution_count": null,
      "outputs": []
    },
    {
      "cell_type": "code",
      "source": [
        "acc"
      ],
      "metadata": {
        "colab": {
          "base_uri": "https://localhost:8080/"
        },
        "id": "JQfnHgHzmIfe",
        "outputId": "6b90762d-b358-496a-f967-3311b5a748d9"
      },
      "execution_count": null,
      "outputs": [
        {
          "output_type": "execute_result",
          "data": {
            "text/plain": [
              "0.09065"
            ]
          },
          "metadata": {},
          "execution_count": 274
        }
      ]
    },
    {
      "cell_type": "code",
      "source": [],
      "metadata": {
        "id": "98EQDGLQmZZT"
      },
      "execution_count": null,
      "outputs": []
    },
    {
      "cell_type": "code",
      "source": [
        "m = np.random.standard_normal((10,784))\n",
        "\n",
        "y = m@X\n",
        "\n",
        "y = np.argmax(y, axis=0)\n",
        "\n",
        "acc = np.sum(y == y_ans)/len(Y)\n",
        "\n",
        "print(acc)"
      ],
      "metadata": {
        "colab": {
          "base_uri": "https://localhost:8080/"
        },
        "id": "jHSB1ZCJmc3c",
        "outputId": "fc5f6923-372f-427e-f8ac-0814ddad4596"
      },
      "execution_count": null,
      "outputs": [
        {
          "output_type": "stream",
          "name": "stdout",
          "text": [
            "0.11021666666666667\n"
          ]
        }
      ]
    },
    {
      "cell_type": "code",
      "source": [
        "m_best = 0\n",
        "acc_best = 0\n",
        "\n",
        "for i in range(1000):\n",
        "\n",
        "    m = 0.1*np.random.standard_normal((10,784))\n",
        "\n",
        "    y = m@X\n",
        "\n",
        "    y = np.argmax(y, axis=0)\n",
        "\n",
        "    acc = np.sum(y == y_ans)/len(Y)\n",
        "\n",
        "\n",
        "    if acc > acc_best:\n",
        "        print(acc)\n",
        "        m_best = m\n",
        "        acc_best = acc"
      ],
      "metadata": {
        "id": "j5OMhhdzmnib",
        "colab": {
          "base_uri": "https://localhost:8080/",
          "height": 395
        },
        "outputId": "509840b3-9212-4bf9-9208-1606ecb38424"
      },
      "execution_count": null,
      "outputs": [
        {
          "output_type": "stream",
          "name": "stdout",
          "text": [
            "0.07581666666666667\n",
            "0.0996\n",
            "0.1141\n",
            "0.11663333333333334\n",
            "0.14086666666666667\n",
            "0.14296666666666666\n"
          ]
        },
        {
          "output_type": "error",
          "ename": "KeyboardInterrupt",
          "evalue": "ignored",
          "traceback": [
            "\u001b[0;31m---------------------------------------------------------------------------\u001b[0m",
            "\u001b[0;31mKeyboardInterrupt\u001b[0m                         Traceback (most recent call last)",
            "\u001b[0;32m<ipython-input-276-f801e297c9b5>\u001b[0m in \u001b[0;36m<cell line: 4>\u001b[0;34m()\u001b[0m\n\u001b[1;32m      8\u001b[0m     \u001b[0my\u001b[0m \u001b[0;34m=\u001b[0m \u001b[0mm\u001b[0m\u001b[0;34m@\u001b[0m\u001b[0mX\u001b[0m\u001b[0;34m\u001b[0m\u001b[0;34m\u001b[0m\u001b[0m\n\u001b[1;32m      9\u001b[0m \u001b[0;34m\u001b[0m\u001b[0m\n\u001b[0;32m---> 10\u001b[0;31m     \u001b[0my\u001b[0m \u001b[0;34m=\u001b[0m \u001b[0mnp\u001b[0m\u001b[0;34m.\u001b[0m\u001b[0margmax\u001b[0m\u001b[0;34m(\u001b[0m\u001b[0my\u001b[0m\u001b[0;34m,\u001b[0m \u001b[0maxis\u001b[0m\u001b[0;34m=\u001b[0m\u001b[0;36m0\u001b[0m\u001b[0;34m)\u001b[0m\u001b[0;34m\u001b[0m\u001b[0;34m\u001b[0m\u001b[0m\n\u001b[0m\u001b[1;32m     11\u001b[0m \u001b[0;34m\u001b[0m\u001b[0m\n\u001b[1;32m     12\u001b[0m     \u001b[0macc\u001b[0m \u001b[0;34m=\u001b[0m \u001b[0mnp\u001b[0m\u001b[0;34m.\u001b[0m\u001b[0msum\u001b[0m\u001b[0;34m(\u001b[0m\u001b[0my\u001b[0m \u001b[0;34m==\u001b[0m \u001b[0my_ans\u001b[0m\u001b[0;34m)\u001b[0m\u001b[0;34m/\u001b[0m\u001b[0mlen\u001b[0m\u001b[0;34m(\u001b[0m\u001b[0mY\u001b[0m\u001b[0;34m)\u001b[0m\u001b[0;34m\u001b[0m\u001b[0;34m\u001b[0m\u001b[0m\n",
            "\u001b[0;32m/usr/local/lib/python3.10/dist-packages/numpy/core/overrides.py\u001b[0m in \u001b[0;36margmax\u001b[0;34m(*args, **kwargs)\u001b[0m\n",
            "\u001b[0;31mKeyboardInterrupt\u001b[0m: "
          ]
        }
      ]
    },
    {
      "cell_type": "code",
      "source": [
        "def GPU(data):\n",
        "    return torch.tensor(data, requires_grad=True, dtype=torch.float, device=torch.device('cuda'))\n",
        "\n",
        "def GPU_data(data):\n",
        "    return torch.tensor(data, requires_grad=False, dtype=torch.float, device=torch.device('cuda'))"
      ],
      "metadata": {
        "id": "Z5ijFhoNUwiX"
      },
      "execution_count": null,
      "outputs": []
    },
    {
      "cell_type": "code",
      "source": [
        "X = GPU_data(X)\n",
        "Y = GPU_data(Y)\n",
        "X_test = GPU_data(X_test)\n",
        "Y_test = GPU_data(Y_test)"
      ],
      "metadata": {
        "id": "albma-mgUzZ_"
      },
      "execution_count": null,
      "outputs": []
    },
    {
      "cell_type": "code",
      "source": [
        "# def scale(img):\n",
        "#     img_min = torch.min(img)\n",
        "#     img_max = torch.max(img)\n",
        "#     scaled = (img - img_min) / (img_max - img_min) * 1.0\n",
        "#     return scaled"
      ],
      "metadata": {
        "id": "p6RdNfK_Tbbt"
      },
      "execution_count": null,
      "outputs": []
    },
    {
      "cell_type": "code",
      "source": [
        "# X = scale(X)\n",
        "# X_test = scale(X_test)"
      ],
      "metadata": {
        "id": "wra63qB6bMD1"
      },
      "execution_count": null,
      "outputs": []
    },
    {
      "cell_type": "code",
      "source": [
        "m_best = 0\n",
        "acc_best = 0\n",
        "\n",
        "for i in range(100000):\n",
        "\n",
        "    step = 0.0000000001\n",
        "\n",
        "    m_random = GPU_data(np.random.randn(10,784))\n",
        "\n",
        "    m = m_best  + step*m_random\n",
        "\n",
        "    y = m@X\n",
        "\n",
        "    y = torch.argmax(y, axis=0)\n",
        "\n",
        "    acc = ((y == Y)).sum()/len(Y)\n",
        "\n",
        "\n",
        "    if acc > acc_best:\n",
        "        print(acc.item())\n",
        "        m_best = m\n",
        "        acc_best = acc"
      ],
      "metadata": {
        "id": "UljqXpWHmutW"
      },
      "execution_count": null,
      "outputs": []
    },
    {
      "cell_type": "code",
      "source": [
        "m_random = GPU_data(np.random.randn(10,784))"
      ],
      "metadata": {
        "id": "ULZewyg2Xtve"
      },
      "execution_count": null,
      "outputs": []
    },
    {
      "cell_type": "code",
      "source": [
        "m_random.shape"
      ],
      "metadata": {
        "colab": {
          "base_uri": "https://localhost:8080/"
        },
        "id": "oOmkBIGYXuln",
        "outputId": "1cd3f6f9-578f-4ca7-b6ec-8ebe9c331b37"
      },
      "execution_count": null,
      "outputs": [
        {
          "output_type": "execute_result",
          "data": {
            "text/plain": [
              "torch.Size([10, 784])"
            ]
          },
          "metadata": {},
          "execution_count": 283
        }
      ]
    },
    {
      "cell_type": "code",
      "source": [
        "plot(m_random[0,:].reshape(28,28))"
      ],
      "metadata": {
        "colab": {
          "base_uri": "https://localhost:8080/",
          "height": 576
        },
        "id": "jy_pT_s6XwgG",
        "outputId": "5a9b66a0-7822-4391-a8c3-294b3c547b7d"
      },
      "execution_count": null,
      "outputs": [
        {
          "output_type": "display_data",
          "data": {
            "text/plain": [
              "<Figure size 700x700 with 1 Axes>"
            ],
            "image/png": "[encoded data removed]"
          },
          "metadata": {}
        }
      ]
    },
    {
      "cell_type": "code",
      "source": [
        "m_best.shape"
      ],
      "metadata": {
        "colab": {
          "base_uri": "https://localhost:8080/"
        },
        "id": "rsP6-RoHXa5H",
        "outputId": "5a02dc10-ad50-40b7-e49c-ef84ee2f3be0"
      },
      "execution_count": null,
      "outputs": [
        {
          "output_type": "execute_result",
          "data": {
            "text/plain": [
              "torch.Size([10, 784])"
            ]
          },
          "metadata": {},
          "execution_count": 285
        }
      ]
    },
    {
      "cell_type": "code",
      "source": [
        "plot(m_best[0,:].reshape(28,28))"
      ],
      "metadata": {
        "colab": {
          "base_uri": "https://localhost:8080/",
          "height": 576
        },
        "id": "YDbH5gq3Xa7f",
        "outputId": "752637a5-dcee-401e-e831-5cc2dedb78f2"
      },
      "execution_count": null,
      "outputs": [
        {
          "output_type": "display_data",
          "data": {
            "text/plain": [
              "<Figure size 700x700 with 1 Axes>"
            ],
            "image/png": "[encoded data removed]"
          },
          "metadata": {}
        }
      ]
    },
    {
      "cell_type": "code",
      "source": [
        "for i in range(10):\n",
        "    plot(m_best[i,:].reshape(28,28))"
      ],
      "metadata": {
        "colab": {
          "base_uri": "https://localhost:8080/",
          "height": 1000
        },
        "id": "E0EGiZ0rXa9n",
        "outputId": "43bc368d-4c70-4bb4-c2fc-ead01fb7adbf"
      },
      "execution_count": null,
      "outputs": [
        {
          "output_type": "display_data",
          "data": {
            "text/plain": [
              "<Figure size 700x700 with 1 Axes>"
            ],
            "image/png": "[encoded data removed]"
          },
          "metadata": {}
        },
        {
          "output_type": "display_data",
          "data": {
            "text/plain": [
              "<Figure size 700x700 with 1 Axes>"
            ],
            "image/png": "[encoded data removed]"
          },
          "metadata": {}
        },
        {
          "output_type": "display_data",
          "data": {
            "text/plain": [
              "<Figure size 700x700 with 1 Axes>"
            ],
            "image/png": "[encoded data removed]"
          },
          "metadata": {}
        },
        {
          "output_type": "display_data",
          "data": {
            "text/plain": [
              "<Figure size 700x700 with 1 Axes>"
            ],
            "image/png": "[encoded data removed]"
          },
          "metadata": {}
        },
        {
          "output_type": "display_data",
          "data": {
            "text/plain": [
              "<Figure size 700x700 with 1 Axes>"
            ],
            "image/png": "[encoded data removed]"
          },
          "metadata": {}
        },
        {
          "output_type": "display_data",
          "data": {
            "text/plain": [
              "<Figure size 700x700 with 1 Axes>"
            ],
            "image/png": "[encoded data removed]"
          },
          "metadata": {}
        },
        {
          "output_type": "display_data",
          "data": {
            "text/plain": [
              "<Figure size 700x700 with 1 Axes>"
            ],
            "image/png": "[encoded data removed]"
          },
          "metadata": {}
        },
        {
          "output_type": "display_data",
          "data": {
            "text/plain": [
              "<Figure size 700x700 with 1 Axes>"
            ],
            "image/png": "[encoded data removed]"
          },
          "metadata": {}
        },
        {
          "output_type": "display_data",
          "data": {
            "text/plain": [
              "<Figure size 700x700 with 1 Axes>"
            ],
            "image/png": "[encoded data removed]"
          },
          "metadata": {}
        },
        {
          "output_type": "display_data",
          "data": {
            "text/plain": [
              "<Figure size 700x700 with 1 Axes>"
            ],
            "image/png": "[encoded data removed]"
          },
          "metadata": {}
        }
      ]
    },
    {
      "cell_type": "code",
      "source": [],
      "metadata": {
        "id": "20Vq4C_CSvng"
      },
      "execution_count": null,
      "outputs": []
    },
    {
      "cell_type": "code",
      "source": [
        "M = GPU_data(np.random.random((100,10,784)))\n",
        "M.shape,X.shape\n",
        "(M@X).shape\n",
        "(torch.argmax((M@X), axis=1) == Y).shape\n",
        "Y.shape\n",
        "y = torch.argmax((M@X), axis=1)\n",
        "score = ((y == Y).sum(1)/len(Y))\n",
        "s = torch.argsort(score,descending=True)\n",
        "score[s]"
      ],
      "metadata": {
        "id": "od7E6ft6zWRG",
        "colab": {
          "base_uri": "https://localhost:8080/"
        },
        "outputId": "016967a4-5977-4de7-9f4d-ef23a016cb25"
      },
      "execution_count": null,
      "outputs": [
        {
          "output_type": "execute_result",
          "data": {
            "text/plain": [
              "tensor([0.1719, 0.1615, 0.1580, 0.1507, 0.1434, 0.1430, 0.1409, 0.1395, 0.1370,\n",
              "        0.1357, 0.1338, 0.1336, 0.1302, 0.1286, 0.1284, 0.1267, 0.1264, 0.1261,\n",
              "        0.1248, 0.1237, 0.1227, 0.1224, 0.1213, 0.1209, 0.1206, 0.1195, 0.1194,\n",
              "        0.1193, 0.1177, 0.1124, 0.1123, 0.1120, 0.1117, 0.1117, 0.1103, 0.1094,\n",
              "        0.1076, 0.1076, 0.1068, 0.1057, 0.1047, 0.1030, 0.1024, 0.1019, 0.1005,\n",
              "        0.1001, 0.0998, 0.0986, 0.0984, 0.0982, 0.0973, 0.0972, 0.0966, 0.0963,\n",
              "        0.0956, 0.0949, 0.0945, 0.0933, 0.0932, 0.0916, 0.0914, 0.0912, 0.0906,\n",
              "        0.0900, 0.0895, 0.0889, 0.0888, 0.0883, 0.0881, 0.0881, 0.0875, 0.0861,\n",
              "        0.0850, 0.0847, 0.0846, 0.0842, 0.0834, 0.0828, 0.0825, 0.0821, 0.0817,\n",
              "        0.0800, 0.0796, 0.0776, 0.0772, 0.0756, 0.0750, 0.0742, 0.0735, 0.0732,\n",
              "        0.0711, 0.0698, 0.0695, 0.0692, 0.0690, 0.0675, 0.0671, 0.0671, 0.0488,\n",
              "        0.0470], device='cuda:0')"
            ]
          },
          "metadata": {},
          "execution_count": 288
        }
      ]
    },
    {
      "cell_type": "code",
      "source": [],
      "metadata": {
        "id": "KdOFfVvtJbrG"
      },
      "execution_count": null,
      "outputs": []
    },
    {
      "cell_type": "code",
      "source": [
        "N = 100\n",
        "M = GPU_data(np.random.rand(N,10,784))\n",
        "\n",
        "m_best = 0\n",
        "acc_best = 0\n",
        "\n",
        "step = 0.00000000001\n",
        "\n",
        "for i in range(1000000):\n",
        "\n",
        "    y = torch.argmax((M@X), axis=1)\n",
        "    score = ((y == Y).sum(1)/len(Y))\n",
        "    s = torch.argsort(score,descending=True)\n",
        "    M = M[s]\n",
        "\n",
        "    M[50:100] = 0\n",
        "    M[0:50] = M[0]\n",
        "    M[1:] += step*GPU_data(np.random.rand(N-1,10,784))\n",
        "\n",
        "\n",
        "    acc = score[s][0].item()\n",
        "\n",
        "    if acc > acc_best:\n",
        "\n",
        "        m_best = M[0]\n",
        "        acc_best = acc\n",
        "\n",
        "        print(i,acc)"
      ],
      "metadata": {
        "id": "2aoKblkrqTX0",
        "colab": {
          "base_uri": "https://localhost:8080/",
          "height": 1000
        },
        "outputId": "c0156d8d-3b21-49f3-db19-dcd9fefb88a2"
      },
      "execution_count": null,
      "outputs": [
        {
          "output_type": "stream",
          "name": "stdout",
          "text": [
            "0 0.1725500077009201\n",
            "7 0.1747666746377945\n",
            "8 0.19120000302791595\n",
            "9 0.19785000383853912\n",
            "10 0.21930000185966492\n",
            "11 0.2357500046491623\n",
            "12 0.25343334674835205\n",
            "13 0.2648666799068451\n",
            "14 0.27230000495910645\n",
            "15 0.28396666049957275\n",
            "17 0.28886666893959045\n",
            "18 0.30043333768844604\n",
            "19 0.3025999963283539\n",
            "20 0.3216666579246521\n",
            "21 0.3254166841506958\n",
            "22 0.3386833369731903\n",
            "23 0.348633348941803\n",
            "24 0.3499666750431061\n",
            "25 0.3557499945163727\n",
            "26 0.3563166558742523\n",
            "27 0.3647833466529846\n",
            "29 0.36606666445732117\n",
            "30 0.375733345746994\n",
            "31 0.3811666667461395\n",
            "32 0.38960000872612\n",
            "33 0.39544999599456787\n",
            "34 0.4025999903678894\n",
            "35 0.4047999978065491\n",
            "36 0.4078666567802429\n",
            "37 0.41046667098999023\n",
            "38 0.4147833287715912\n",
            "39 0.421833336353302\n",
            "40 0.4323333501815796\n",
            "41 0.4360499978065491\n",
            "42 0.43896666169166565\n",
            "43 0.44423332810401917\n",
            "44 0.4499833285808563\n",
            "45 0.4532333314418793\n",
            "46 0.45676666498184204\n",
            "47 0.45846667885780334\n",
            "48 0.4619666635990143\n",
            "49 0.4644833505153656\n",
            "50 0.46478334069252014\n",
            "51 0.466866672039032\n",
            "52 0.46968334913253784\n",
            "53 0.47218334674835205\n",
            "54 0.47733333706855774\n",
            "55 0.48056668043136597\n",
            "56 0.4848666787147522\n",
            "57 0.48643332719802856\n",
            "59 0.4866500198841095\n",
            "60 0.48821666836738586\n",
            "61 0.48840001225471497\n",
            "62 0.49053335189819336\n",
            "64 0.49156665802001953\n",
            "65 0.4916500151157379\n",
            "66 0.4960833489894867\n",
            "68 0.49966666102409363\n",
            "69 0.5022166967391968\n",
            "70 0.5052333474159241\n",
            "71 0.5066666603088379\n",
            "72 0.5072000026702881\n",
            "73 0.509850025177002\n",
            "74 0.5145833492279053\n",
            "75 0.5200166702270508\n",
            "76 0.5226166844367981\n",
            "77 0.5253166556358337\n",
            "78 0.5271333456039429\n",
            "79 0.5291333198547363\n",
            "80 0.5308166742324829\n",
            "81 0.532283365726471\n",
            "82 0.5343166589736938\n",
            "83 0.5356500148773193\n",
            "84 0.5362666845321655\n",
            "85 0.5371333360671997\n",
            "86 0.5398333668708801\n",
            "87 0.5414833426475525\n",
            "88 0.5422333478927612\n",
            "89 0.5427833199501038\n",
            "90 0.545283317565918\n",
            "91 0.5484333634376526\n",
            "92 0.5491166710853577\n",
            "93 0.5515333414077759\n",
            "94 0.5550833344459534\n",
            "95 0.5561167001724243\n",
            "96 0.5564333200454712\n",
            "97 0.5572166442871094\n",
            "98 0.558899998664856\n",
            "99 0.5615000128746033\n",
            "100 0.5621333122253418\n",
            "101 0.5632666945457458\n",
            "102 0.564633309841156\n",
            "103 0.5663333535194397\n",
            "104 0.5696666836738586\n",
            "105 0.5708333253860474\n",
            "106 0.5721833109855652\n",
            "107 0.5728166699409485\n",
            "108 0.572950005531311\n",
            "109 0.574150025844574\n",
            "110 0.5754333138465881\n",
            "111 0.5782333612442017\n",
            "112 0.5795000195503235\n",
            "113 0.5804166793823242\n",
            "114 0.5812333226203918\n",
            "115 0.5816333293914795\n",
            "116 0.5833500027656555\n",
            "117 0.5838000178337097\n",
            "118 0.5843833684921265\n",
            "119 0.585349977016449\n",
            "120 0.5868333578109741\n",
            "121 0.5888833403587341\n",
            "122 0.5894333124160767\n",
            "123 0.5925333499908447\n",
            "124 0.5936333537101746\n",
            "125 0.5949333310127258\n",
            "126 0.5952000021934509\n",
            "127 0.5967666506767273\n",
            "128 0.5978166460990906\n",
            "129 0.5995000004768372\n",
            "130 0.6000833511352539\n",
            "131 0.600183367729187\n",
            "132 0.6012666821479797\n",
            "134 0.6021166443824768\n",
            "135 0.6044999957084656\n",
            "138 0.605316698551178\n",
            "140 0.6065000295639038\n",
            "142 0.6071000099182129\n",
            "144 0.6077333688735962\n",
            "145 0.6087333559989929\n",
            "146 0.6102499961853027\n",
            "147 0.6112000346183777\n",
            "148 0.612333357334137\n",
            "149 0.6130499839782715\n",
            "150 0.6140166521072388\n",
            "151 0.6143500208854675\n",
            "152 0.6154166460037231\n",
            "153 0.6160333156585693\n",
            "154 0.6169166564941406\n",
            "155 0.6176666617393494\n",
            "156 0.6194166541099548\n",
            "157 0.6198499798774719\n",
            "158 0.6207166910171509\n",
            "160 0.6208666563034058\n",
            "161 0.6217833161354065\n",
            "168 0.6218833327293396\n",
            "169 0.6220166683197021\n",
            "170 0.6229666471481323\n",
            "171 0.623283326625824\n",
            "172 0.6239833235740662\n",
            "173 0.6240167021751404\n",
            "174 0.6245166659355164\n",
            "175 0.6249833106994629\n",
            "176 0.6254500150680542\n",
            "177 0.6269333362579346\n",
            "179 0.6279000043869019\n",
            "180 0.6280166506767273\n",
            "181 0.628083348274231\n",
            "182 0.6288166642189026\n",
            "183 0.6297000050544739\n",
            "184 0.6310499906539917\n",
            "185 0.6324999928474426\n",
            "186 0.6334500312805176\n",
            "187 0.6341000199317932\n",
            "189 0.6352500319480896\n",
            "190 0.6353833675384521\n",
            "191 0.6363166570663452\n",
            "192 0.6370833516120911\n",
            "193 0.6384666562080383\n",
            "194 0.6401166915893555\n",
            "195 0.6403833627700806\n",
            "196 0.6426833271980286\n",
            "197 0.6440833210945129\n",
            "198 0.6446166634559631\n",
            "199 0.6449500322341919\n",
            "200 0.6464000344276428\n",
            "201 0.6467166543006897\n",
            "202 0.6471666693687439\n",
            "203 0.6480666995048523\n",
            "204 0.6488833427429199\n",
            "205 0.6490333676338196\n",
            "206 0.6507166624069214\n",
            "207 0.6520666480064392\n",
            "208 0.6529666781425476\n",
            "209 0.653249979019165\n",
            "210 0.6538833379745483\n",
            "211 0.6541833281517029\n",
            "212 0.6552833318710327\n",
            "213 0.6556333303451538\n",
            "214 0.6561166644096375\n",
            "215 0.6575833559036255\n",
            "216 0.658216655254364\n",
            "217 0.6583833694458008\n",
            "218 0.6583999991416931\n",
            "219 0.6603333353996277\n",
            "220 0.6614333391189575\n",
            "221 0.6620833277702332\n",
            "222 0.6631500124931335\n",
            "223 0.6638333201408386\n",
            "225 0.6640000343322754\n",
            "226 0.6646333336830139\n",
            "227 0.664650022983551\n",
            "228 0.666700005531311\n",
            "229 0.6668500304222107\n",
            "230 0.6672166585922241\n",
            "231 0.668066680431366\n",
            "232 0.6689000129699707\n",
            "233 0.6690999865531921\n",
            "234 0.6691666841506958\n",
            "235 0.6704833507537842\n",
            "236 0.6710500121116638\n",
            "238 0.6716333627700806\n",
            "239 0.6729833483695984\n",
            "241 0.6737833619117737\n",
            "242 0.6742833256721497\n",
            "243 0.6749500036239624\n",
            "244 0.6757833361625671\n",
            "245 0.6762333512306213\n",
            "246 0.6771500110626221\n",
            "247 0.6775500178337097\n",
            "248 0.6778666973114014\n",
            "249 0.6780499815940857\n",
            "250 0.6783833503723145\n",
            "251 0.6794333457946777\n",
            "252 0.6796833276748657\n",
            "253 0.6800666451454163\n",
            "254 0.6807833313941956\n",
            "255 0.6816166639328003\n",
            "265 0.6820499897003174\n",
            "267 0.6821833252906799\n",
            "268 0.6828666925430298\n",
            "269 0.6833833456039429\n",
            "270 0.6836666464805603\n",
            "271 0.684333324432373\n",
            "272 0.6851500272750854\n",
            "273 0.6854166984558105\n",
            "274 0.6859166622161865\n",
            "275 0.6862166523933411\n",
            "276 0.6864833235740662\n",
            "280 0.6866666674613953\n",
            "283 0.6868500113487244\n",
            "285 0.6869833469390869\n",
            "286 0.687583327293396\n",
            "287 0.6879500150680542\n",
            "288 0.6881833672523499\n",
            "294 0.6885166764259338\n",
            "295 0.6886667013168335\n",
            "299 0.6889833211898804\n",
            "303 0.6891500353813171\n",
            "305 0.6893500089645386\n",
            "306 0.6895166635513306\n",
            "307 0.6898500323295593\n",
            "317 0.6899666786193848\n",
            "318 0.6899833679199219\n",
            "320 0.6902666687965393\n",
            "321 0.6904667019844055\n",
            "323 0.690583348274231\n",
            "324 0.690750002861023\n",
            "325 0.6911166906356812\n",
            "326 0.6914666891098022\n",
            "327 0.6916833519935608\n",
            "328 0.6922667026519775\n",
            "329 0.692466676235199\n",
            "330 0.6930833458900452\n",
            "332 0.6932833194732666\n",
            "333 0.6936666965484619\n",
            "335 0.6938833594322205\n",
            "336 0.6945000290870667\n",
            "337 0.6945500373840332\n",
            "338 0.6955833435058594\n",
            "340 0.6960499882698059\n",
            "342 0.6962500214576721\n",
            "343 0.6969500184059143\n",
            "344 0.6969666481018066\n",
            "346 0.6970000267028809\n",
            "347 0.6972833275794983\n",
            "348 0.6974999904632568\n",
            "349 0.697700023651123\n",
            "350 0.6991666555404663\n",
            "351 0.6993666887283325\n",
            "353 0.6997500061988831\n",
            "354 0.6997666954994202\n",
            "355 0.700083315372467\n",
            "357 0.7002666592597961\n",
            "358 0.7003999948501587\n",
            "359 0.701200008392334\n",
            "361 0.7014166712760925\n",
            "362 0.7018166780471802\n",
            "363 0.7023500204086304\n",
            "364 0.7024500370025635\n",
            "365 0.7024999856948853\n",
            "371 0.7025333642959595\n",
            "372 0.7027333378791809\n",
            "381 0.702833354473114\n",
            "382 0.7031000256538391\n",
            "385 0.7031500339508057\n",
            "387 0.7034333348274231\n",
            "390 0.7034666538238525\n",
            "391 0.7040166854858398\n",
            "392 0.7043166756629944\n",
            "395 0.7045333385467529\n",
            "397 0.7052833437919617\n",
            "398 0.7061333656311035\n",
            "401 0.7062333226203918\n",
            "404 0.706766664981842\n",
            "405 0.7069166898727417\n",
            "406 0.7074999809265137\n",
            "410 0.7076166868209839\n",
            "411 0.707966685295105\n",
            "412 0.7082333564758301\n",
            "413 0.7083166837692261\n",
            "414 0.7083666920661926\n",
            "417 0.7084833383560181\n",
            "418 0.7089333534240723\n",
            "423 0.7092666625976562\n",
            "424 0.7095500230789185\n",
            "426 0.7095666527748108\n",
            "427 0.7099000215530396\n",
            "428 0.7100833654403687\n",
            "429 0.7102500200271606\n",
            "431 0.7103000283241272\n",
            "433 0.7103999853134155\n",
            "434 0.7109833359718323\n",
            "435 0.7110500335693359\n",
            "436 0.7117833495140076\n",
            "437 0.712066650390625\n",
            "440 0.7121333479881287\n",
            "441 0.7124000191688538\n",
            "442 0.7125000357627869\n",
            "444 0.7126500010490417\n",
            "445 0.7130500078201294\n",
            "446 0.7134667038917542\n",
            "447 0.7134833335876465\n",
            "449 0.7135000228881836\n",
            "451 0.7135166525840759\n",
            "452 0.7142333388328552\n",
            "453 0.7143166661262512\n",
            "454 0.7144500017166138\n",
            "456 0.7150499820709229\n",
            "457 0.7151333689689636\n",
            "458 0.7152500152587891\n",
            "459 0.7154833674430847\n",
            "461 0.7156167030334473\n",
            "462 0.7160833477973938\n",
            "463 0.7163333296775818\n",
            "464 0.7165166735649109\n",
            "465 0.7166833281517029\n",
            "466 0.7172666788101196\n",
            "467 0.7174167037010193\n",
            "468 0.7176333665847778\n",
            "469 0.7181167006492615\n",
            "470 0.7182166576385498\n",
            "471 0.7183499932289124\n",
            "472 0.7186000347137451\n",
            "473 0.7186499834060669\n",
            "474 0.7192833423614502\n",
            "490 0.7193333506584167\n",
            "535 0.7195166945457458\n",
            "538 0.7196666598320007\n",
            "539 0.720050036907196\n",
            "546 0.7201166749000549\n",
            "547 0.7209333181381226\n",
            "549 0.7211000323295593\n",
            "551 0.7211666703224182\n",
            "552 0.7218166589736938\n",
            "563 0.7218999862670898\n",
            "564 0.7221666574478149\n",
            "567 0.722183346748352\n",
            "581 0.7222333550453186\n",
            "585 0.7223333120346069\n",
            "586 0.7223833203315735\n",
            "590 0.7225666642189026\n",
            "591 0.7229166626930237\n",
            "592 0.7232500314712524\n",
            "593 0.7234333157539368\n",
            "596 0.7236000299453735\n",
            "597 0.7238500118255615\n",
            "599 0.7240166664123535\n",
            "600 0.7243666648864746\n",
            "603 0.724399983882904\n",
            "605 0.7247000336647034\n",
            "614 0.7248166799545288\n",
            "638 0.7249666452407837\n",
            "641 0.725183367729187\n",
            "642 0.7254666686058044\n",
            "643 0.7258166670799255\n",
            "645 0.7258833646774292\n",
            "725 0.7261333465576172\n",
            "728 0.7264500260353088\n",
            "730 0.7266499996185303\n",
            "731 0.7266666889190674\n",
            "735 0.7268500328063965\n",
            "740 0.7268666625022888\n",
            "754 0.7269333600997925\n",
            "773 0.7270833253860474\n",
            "775 0.7271000146865845\n",
            "776 0.7272666692733765\n",
            "777 0.7276166677474976\n",
            "784 0.7276833653450012\n",
            "790 0.7277666926383972\n",
            "800 0.7278833389282227\n",
            "809 0.7283333539962769\n",
            "832 0.7284833192825317\n",
            "835 0.728516697883606\n",
            "836 0.7285333275794983\n",
            "837 0.7285833358764648\n",
            "839 0.7289333343505859\n",
            "843 0.728950023651123\n",
            "844 0.7289666533470154\n",
            "846 0.7289833426475525\n",
            "870 0.7290000319480896\n",
            "879 0.7290166616439819\n",
            "882 0.7291666865348816\n",
            "892 0.7292333245277405\n",
            "906 0.7294833660125732\n",
            "914 0.7298666834831238\n",
            "939 0.7298833131790161\n",
            "959 0.7299166917800903\n",
            "960 0.7300166487693787\n",
            "966 0.730316698551178\n",
            "980 0.7303500175476074\n",
            "1027 0.7303666472434998\n",
            "1056 0.7306166887283325\n",
            "1077 0.7308333516120911\n",
            "1078 0.7308666706085205\n",
            "1084 0.7310000061988831\n",
            "1088 0.7310333251953125\n",
            "1089 0.7311333417892456\n",
            "1091 0.7315000295639038\n",
            "1092 0.7319666743278503\n",
            "1093 0.7322500348091125\n",
            "1094 0.7324000000953674\n",
            "1106 0.7324166893959045\n",
            "1109 0.7325666546821594\n",
            "1118 0.7327333688735962\n",
            "1127 0.7330166697502136\n",
            "1135 0.7331666946411133\n",
            "1137 0.7336333394050598\n",
            "1141 0.7341333627700806\n",
            "1145 0.734499990940094\n",
            "1153 0.734666645526886\n",
            "1160 0.7347333431243896\n",
            "1161 0.7350833415985107\n",
            "1168 0.7351666688919067\n",
            "1169 0.7353833317756653\n",
            "1170 0.7354333400726318\n",
            "1171 0.7359833121299744\n",
            "1181 0.7360333204269409\n",
            "1183 0.736050009727478\n",
            "1186 0.7363499999046326\n",
            "1227 0.7365000247955322\n",
            "1289 0.7367500066757202\n",
            "1357 0.7367833256721497\n",
            "1358 0.7369166612625122\n",
            "1363 0.7370666861534119\n",
            "1364 0.737250030040741\n",
            "1365 0.7374333143234253\n",
            "1378 0.737583339214325\n",
            "1384 0.7376000285148621\n",
            "1388 0.7376833558082581\n",
            "1393 0.737766683101654\n",
            "1394 0.7378000020980835\n",
            "1396 0.7378333210945129\n",
            "1398 0.7380833625793457\n",
            "1405 0.738183319568634\n",
            "1411 0.7383500337600708\n",
            "1415 0.7384333610534668\n",
            "1437 0.7385500073432922\n",
            "1472 0.7386000156402588\n",
            "1481 0.7386666536331177\n",
            "1482 0.7387666702270508\n",
            "1483 0.7390166521072388\n",
            "1487 0.7390333414077759\n",
            "1492 0.7391499876976013\n",
            "1493 0.7391666769981384\n",
            "1669 0.7392500042915344\n",
            "1670 0.7394166588783264\n",
            "1673 0.739466667175293\n",
            "1683 0.739549994468689\n",
            "1688 0.7395833134651184\n",
            "1704 0.7397500276565552\n",
            "1752 0.7398999929428101\n",
            "1757 0.7399333119392395\n",
            "1758 0.7400333285331726\n",
            "1761 0.7400500178337097\n",
            "1817 0.7401166558265686\n",
            "1819 0.7401333451271057\n",
            "1835 0.7402666807174683\n",
            "1838 0.7404333353042603\n",
            "1839 0.7405499815940857\n",
            "1840 0.7408999800682068\n",
            "1842 0.7412999868392944\n",
            "1843 0.7414000034332275\n",
            "1854 0.741516649723053\n",
            "1931 0.7419000267982483\n",
            "1934 0.7419500350952148\n",
            "1950 0.7419833540916443\n",
            "1980 0.7422666549682617\n",
            "1982 0.7423000335693359\n",
            "2058 0.7423499822616577\n",
            "2083 0.7425333261489868\n",
            "2093 0.7426166534423828\n",
            "2132 0.7427166700363159\n",
            "2141 0.742816686630249\n",
            "2209 0.7428833246231079\n",
            "2257 0.7430999875068665\n",
            "2259 0.7432166934013367\n",
            "2261 0.7433833479881287\n",
            "2262 0.7435166835784912\n",
            "2265 0.7436500191688538\n",
            "2266 0.7440333366394043\n",
            "2267 0.7440500259399414\n",
            "2268 0.7445833683013916\n",
            "2337 0.7445999979972839\n",
            "2338 0.7447333335876465\n",
            "2342 0.7448999881744385\n",
            "2352 0.7449833154678345\n",
            "2354 0.7450667023658752\n",
            "2370 0.7453833222389221\n",
            "2376 0.7454167008399963\n",
            "2396 0.7454500198364258\n",
            "2398 0.7457166910171509\n",
            "2402 0.7457500100135803\n",
            "2411 0.7461833357810974\n",
            "2412 0.7464166879653931\n",
            "2423 0.7464500069618225\n",
            "2429 0.7465167045593262\n",
            "2493 0.746566653251648\n",
            "2502 0.7466000318527222\n",
            "2509 0.746649980545044\n",
            "2510 0.7466999888420105\n",
            "2516 0.7467666864395142\n",
            "2517 0.7467833161354065\n",
            "2538 0.7468833327293396\n",
            "2542 0.7473333477973938\n",
            "2557 0.7475333213806152\n",
            "2560 0.7476833462715149\n",
            "2573 0.7477333545684814\n",
            "2651 0.7477999925613403\n",
            "2685 0.7479166984558105\n",
            "3085 0.7479333281517029\n",
            "3093 0.748033344745636\n",
            "3275 0.7482166886329651\n",
            "3632 0.7485166788101196\n",
            "3893 0.7485333681106567\n",
            "3894 0.7487000226974487\n",
            "3897 0.7492499947547913\n",
            "3914 0.7492666840553284\n",
            "3934 0.7493166923522949\n",
            "3966 0.7493667006492615\n",
            "3969 0.7493833303451538\n",
            "3971 0.7494000196456909\n",
            "3978 0.7495499849319458\n",
            "3979 0.7496833205223083\n",
            "3980 0.7498999834060669\n",
            "3994 0.7499333620071411\n"
          ]
        },
        {
          "output_type": "error",
          "ename": "KeyboardInterrupt",
          "evalue": "ignored",
          "traceback": [
            "\u001b[0;31m---------------------------------------------------------------------------\u001b[0m",
            "\u001b[0;31mKeyboardInterrupt\u001b[0m                         Traceback (most recent call last)",
            "\u001b[0;32m<ipython-input-289-239c032b3f28>\u001b[0m in \u001b[0;36m<cell line: 9>\u001b[0;34m()\u001b[0m\n\u001b[1;32m     16\u001b[0m     \u001b[0mM\u001b[0m\u001b[0;34m[\u001b[0m\u001b[0;36m50\u001b[0m\u001b[0;34m:\u001b[0m\u001b[0;36m100\u001b[0m\u001b[0;34m]\u001b[0m \u001b[0;34m=\u001b[0m \u001b[0;36m0\u001b[0m\u001b[0;34m\u001b[0m\u001b[0;34m\u001b[0m\u001b[0m\n\u001b[1;32m     17\u001b[0m     \u001b[0mM\u001b[0m\u001b[0;34m[\u001b[0m\u001b[0;36m0\u001b[0m\u001b[0;34m:\u001b[0m\u001b[0;36m50\u001b[0m\u001b[0;34m]\u001b[0m \u001b[0;34m=\u001b[0m \u001b[0mM\u001b[0m\u001b[0;34m[\u001b[0m\u001b[0;36m0\u001b[0m\u001b[0;34m]\u001b[0m\u001b[0;34m\u001b[0m\u001b[0;34m\u001b[0m\u001b[0m\n\u001b[0;32m---> 18\u001b[0;31m     \u001b[0mM\u001b[0m\u001b[0;34m[\u001b[0m\u001b[0;36m1\u001b[0m\u001b[0;34m:\u001b[0m\u001b[0;34m]\u001b[0m \u001b[0;34m+=\u001b[0m \u001b[0mstep\u001b[0m\u001b[0;34m*\u001b[0m\u001b[0mGPU_data\u001b[0m\u001b[0;34m(\u001b[0m\u001b[0mnp\u001b[0m\u001b[0;34m.\u001b[0m\u001b[0mrandom\u001b[0m\u001b[0;34m.\u001b[0m\u001b[0mrand\u001b[0m\u001b[0;34m(\u001b[0m\u001b[0mN\u001b[0m\u001b[0;34m-\u001b[0m\u001b[0;36m1\u001b[0m\u001b[0;34m,\u001b[0m\u001b[0;36m10\u001b[0m\u001b[0;34m,\u001b[0m\u001b[0;36m784\u001b[0m\u001b[0;34m)\u001b[0m\u001b[0;34m)\u001b[0m\u001b[0;34m\u001b[0m\u001b[0;34m\u001b[0m\u001b[0m\n\u001b[0m\u001b[1;32m     19\u001b[0m \u001b[0;34m\u001b[0m\u001b[0m\n\u001b[1;32m     20\u001b[0m \u001b[0;34m\u001b[0m\u001b[0m\n",
            "\u001b[0;31mKeyboardInterrupt\u001b[0m: "
          ]
        }
      ]
    },
    {
      "cell_type": "code",
      "source": [
        "y_test = torch.argmax((M@X_test), axis=1)\n",
        "score = ((y_test == Y_test).sum(1)/len(Y_test))\n",
        "s = torch.argsort(score,descending=True)\n",
        "acc_test = score[s][0].item()"
      ],
      "metadata": {
        "id": "b-ZbXHH_gMth"
      },
      "execution_count": null,
      "outputs": []
    },
    {
      "cell_type": "code",
      "source": [
        "X_test.shape"
      ],
      "metadata": {
        "colab": {
          "base_uri": "https://localhost:8080/"
        },
        "id": "nozKM2FpnpZH",
        "outputId": "78b906a3-6566-4e77-ce3a-16bf08e2ec3b"
      },
      "execution_count": null,
      "outputs": [
        {
          "output_type": "execute_result",
          "data": {
            "text/plain": [
              "torch.Size([784, 10000])"
            ]
          },
          "metadata": {},
          "execution_count": 291
        }
      ]
    },
    {
      "cell_type": "code",
      "source": [
        "acc_test"
      ],
      "metadata": {
        "id": "01fixDvfPG54",
        "colab": {
          "base_uri": "https://localhost:8080/"
        },
        "outputId": "755dbcff-eefc-4c82-b886-b45683d823d1"
      },
      "execution_count": null,
      "outputs": [
        {
          "output_type": "execute_result",
          "data": {
            "text/plain": [
              "0.5849999785423279"
            ]
          },
          "metadata": {},
          "execution_count": 292
        }
      ]
    },
    {
      "cell_type": "code",
      "source": [
        "y_test[0]"
      ],
      "metadata": {
        "colab": {
          "base_uri": "https://localhost:8080/"
        },
        "id": "eNi2VS0BlR6r",
        "outputId": "6d05791c-bc34-4e2e-e6e6-829ae62ec437"
      },
      "execution_count": null,
      "outputs": [
        {
          "output_type": "execute_result",
          "data": {
            "text/plain": [
              "tensor([5, 9, 3,  ..., 9, 8, 6], device='cuda:0')"
            ]
          },
          "metadata": {},
          "execution_count": 293
        }
      ]
    },
    {
      "cell_type": "code",
      "source": [
        "Y_test"
      ],
      "metadata": {
        "colab": {
          "base_uri": "https://localhost:8080/"
        },
        "id": "Cd3vYXcpmVrr",
        "outputId": "8d2cbc73-7ca1-4798-ca31-74bf9305e332"
      },
      "execution_count": null,
      "outputs": [
        {
          "output_type": "execute_result",
          "data": {
            "text/plain": [
              "tensor([2., 9., 3.,  ..., 9., 4., 2.], device='cuda:0')"
            ]
          },
          "metadata": {},
          "execution_count": 294
        }
      ]
    },
    {
      "cell_type": "code",
      "source": [
        "for i in range(10):\n",
        "\n",
        "    guess = y_test[0,i].item()\n",
        "    answer = int(Y_test[i])\n",
        "\n",
        "    title = f\"Guess: {guess}   ---   Actual: {answer}\"\n",
        "    plot(X_test[:,i].reshape(28,28),title)\n"
      ],
      "metadata": {
        "id": "05_GcsnvmVue",
        "colab": {
          "base_uri": "https://localhost:8080/",
          "height": 1000
        },
        "outputId": "6ea386a5-ae5e-41dc-d926-1a3ca07f051d"
      },
      "execution_count": null,
      "outputs": [
        {
          "output_type": "display_data",
          "data": {
            "text/plain": [
              "<Figure size 700x700 with 1 Axes>"
            ],
            "image/png": "[encoded data removed]"
          },
          "metadata": {}
        },
        {
          "output_type": "display_data",
          "data": {
            "text/plain": [
              "<Figure size 700x700 with 1 Axes>"
            ],
            "image/png": "[encoded data removed]"
          },
          "metadata": {}
        },
        {
          "output_type": "display_data",
          "data": {
            "text/plain": [
              "<Figure size 700x700 with 1 Axes>"
            ],
            "image/png": "[encoded data removed]"
          },
          "metadata": {}
        },
        {
          "output_type": "display_data",
          "data": {
            "text/plain": [
              "<Figure size 700x700 with 1 Axes>"
            ],
            "image/png": "[encoded data removed]"
          },
          "metadata": {}
        },
        {
          "output_type": "display_data",
          "data": {
            "text/plain": [
              "<Figure size 700x700 with 1 Axes>"
            ],
            "image/png": "[encoded data removed]"
          },
          "metadata": {}
        },
        {
          "output_type": "display_data",
          "data": {
            "text/plain": [
              "<Figure size 700x700 with 1 Axes>"
            ],
            "image/png": "[encoded data removed]"
          },
          "metadata": {}
        },
        {
          "output_type": "display_data",
          "data": {
            "text/plain": [
              "<Figure size 700x700 with 1 Axes>"
            ],
            "image/png": "[encoded data removed]"
          },
          "metadata": {}
        },
        {
          "output_type": "display_data",
          "data": {
            "text/plain": [
              "<Figure size 700x700 with 1 Axes>"
            ],
            "image/png": "[encoded data removed]"
          },
          "metadata": {}
        },
        {
          "output_type": "display_data",
          "data": {
            "text/plain": [
              "<Figure size 700x700 with 1 Axes>"
            ],
            "image/png": "[encoded data removed]"
          },
          "metadata": {}
        },
        {
          "output_type": "display_data",
          "data": {
            "text/plain": [
              "<Figure size 700x700 with 1 Axes>"
            ],
            "image/png": "[encoded data removed]"
          },
          "metadata": {}
        }
      ]
    },
    {
      "cell_type": "code",
      "source": [],
      "metadata": {
        "id": "M7ZDXwMtmVxY"
      },
      "execution_count": null,
      "outputs": []
    },
    {
      "cell_type": "code",
      "source": [],
      "metadata": {
        "id": "nzhbfAtWp5mD"
      },
      "execution_count": null,
      "outputs": []
    },
    {
      "cell_type": "code",
      "source": [
        "import numpy as np\n",
        "import matplotlib.pyplot as plt\n",
        "import base64\n",
        "from io import BytesIO\n",
        "\n",
        "def plot(x, title=None):\n",
        "    if type(x) == torch.Tensor:\n",
        "        x = x.cpu().detach().numpy()\n",
        "\n",
        "    fig, ax = plt.subplots()\n",
        "    im = ax.imshow(x, cmap='gray')\n",
        "    ax.axis('off')\n",
        "    fig.set_size_inches(7, 7)\n",
        "    plt.title(title)\n",
        "\n",
        "# Convert the matplotlib plot to a base64 encoded image\n",
        "def plot_to_base64():\n",
        "    buf = BytesIO()\n",
        "    plt.savefig(buf, format=\"png\", bbox_inches='tight')\n",
        "    plt.close()\n",
        "    return base64.b64encode(buf.getvalue()).decode('utf-8')\n",
        "\n",
        "# Generate the HTML content\n",
        "html_content = \"<html><body>\"\n",
        "\n",
        "for i in range(10):\n",
        "\n",
        "    guess = y_test[0, i].item()\n",
        "    answer = int(Y_test[i])\n",
        "\n",
        "    title = f\"Guess: {guess}   ---   Actual: {answer}\"\n",
        "    plot(X_test[:,i].reshape(28,28),title)\n",
        "    img_b64 = plot_to_base64()\n",
        "\n",
        "\n",
        "    html_content += f\"<h3>{title}</h3>\"\n",
        "    html_content += f'<img src=\"data:image/png;base64,{img_b64}\" alt=\"{title}\" />'\n",
        "\n",
        "\n",
        "html_content += \"</body></html>\"\n",
        "\n",
        "\n",
        "# Write the HTML content to a file\n",
        "print(html_content, file=open(\"output.html\",'w'))"
      ],
      "metadata": {
        "id": "QnyY0JVXp5oo"
      },
      "execution_count": null,
      "outputs": []
    },
    {
      "cell_type": "code",
      "source": [
        "import IPython\n",
        "IPython.display.HTML(filename='output.html')"
      ],
      "metadata": {
        "colab": {
          "base_uri": "https://localhost:8080/",
          "height": 1000
        },
        "id": "KuiLr_Kqp6NO",
        "outputId": "b90cdb00-2bc2-46d5-fc9c-76db975f8909"
      },
      "execution_count": null,
      "outputs": [
        {
          "output_type": "execute_result",
          "data": {
            "text/plain": [
              "<IPython.core.display.HTML object>"
            ],
            "text/html": [
              "<html><head></head><body><h3>Guess: 7   ---   Actual: 7</h3><img src=\"data:image/png;base64,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\" alt=\"Guess: 7   ---   Actual: 7\" /><h3>Guess: 2   ---   Actual: 2</h3><img src=\"data:image/png;base64,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\" alt=\"Guess: 2   ---   Actual: 2\" /><h3>Guess: 1   ---   Actual: 1</h3><img src=\"data:image/png;base64,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\" alt=\"Guess: 1   ---   Actual: 1\" /><h3>Guess: 0   ---   Actual: 0</h3><img src=\"data:image/png;base64,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\" alt=\"Guess: 0   ---   Actual: 0\" /><h3>Guess: 4   ---   Actual: 4</h3><img src=\"data:image/png;base64,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\" alt=\"Guess: 4   ---   Actual: 4\" /><h3>Guess: 1   ---   Actual: 1</h3><img src=\"data:image/png;base64,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\" alt=\"Guess: 1   ---   Actual: 1\" /><h3>Guess: 4   ---   Actual: 4</h3><img src=\"data:image/png;base64,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\" alt=\"Guess: 4   ---   Actual: 4\" /><h3>Guess: 9   ---   Actual: 9</h3><img src=\"data:image/png;base64,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\" alt=\"Guess: 9   ---   Actual: 9\" /><h3>Guess: 6   ---   Actual: 5</h3><img src=\"data:image/png;base64,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\" alt=\"Guess: 6   ---   Actual: 5\" /><h3>Guess: 9   ---   Actual: 9</h3><img src=\"data:image/png;base64,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\" alt=\"Guess: 9   ---   Actual: 9\" /></body></html>\n"
            ]
          },
          "metadata": {},
          "execution_count": 178
        }
      ]
    },
    {
      "cell_type": "code",
      "source": [],
      "metadata": {
        "id": "hhmoSSjcs2M2"
      },
      "execution_count": null,
      "outputs": []
    }
  ],
  "metadata": {
    "accelerator": "GPU",
    "colab": {
      "provenance": [],
      "include_colab_link": true
    },
    "kernelspec": {
      "display_name": "Python 3",
      "name": "python3"
    }
  },
  "nbformat": 4,
  "nbformat_minor": 0
}